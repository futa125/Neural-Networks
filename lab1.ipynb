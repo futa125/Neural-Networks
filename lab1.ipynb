{
 "cells": [
  {
   "cell_type": "markdown",
   "metadata": {
    "id": "RpzUz8vE9F4y"
   },
   "source": [
    "# Exercise 1: Model of a neuron and the learning process\n",
    "\n",
    "## 1.1 Model of a neuron\n",
    "\n",
    "Write a Python function, which calculates the output of a neuron. Assume a model of a neuron shown in Figure 1 with three inputs and a threshold. The threshold can be interpreted as an additional input with fixed input of $-1$ and weight $w_{10}$. The output of the function has to correspond to output of the neuron.\n",
    "\n",
    "![model.png](data:image/png;base64,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)\n",
    "\n",
    "Figure 1. Model of a neuron\n",
    "\n",
    "Use the scalar product of input vector $[x_0 x_1 x_2 x_3]$ and weights $[x_0 x_1 x_2 x_3]$ in order to calculate the neuron activation. The function has to have an additional input, which is used to select different nonlinear activation functions. The function should support the following nonlinear functions:\n",
    "\n",
    "1. Step function\n",
    "2. Piecewise linear function (ramp)\n",
    "3. Sigmoid function defined as $\\phi = \\frac{1}{1+\\exp (-av)}$, with $a=1$"
   ]
  },
  {
   "cell_type": "markdown",
   "source": [
    "**Tasks**\n",
    "\n",
    "1. Write the code for calculating the aforementioned nonlinear functions and for the function which calculates the output of a neuron."
   ],
   "metadata": {
    "id": "hoktSM_J9YyC"
   }
  },
  {
   "cell_type": "code",
   "execution_count": 16,
   "metadata": {
    "collapsed": true,
    "id": "ZGQh4Pkx9F44",
    "ExecuteTime": {
     "end_time": "2023-10-19T18:10:09.106078Z",
     "start_time": "2023-10-19T18:10:09.101830Z"
    }
   },
   "outputs": [],
   "source": [
    "import numpy as np\n",
    "\n",
    "def step_function(x):\n",
    "    if x < 0:\n",
    "        return 0\n",
    "    \n",
    "    return 1\n",
    "\n",
    "def ramp_function(x):\n",
    "    if x < 0:\n",
    "        return 0\n",
    "    \n",
    "    return x\n",
    "\n",
    "def sigmoid_function(x, a=1):\n",
    "    return 1 / (1 + np.exp(-a * x))\n",
    "\n",
    "def neuron(x, w, activation):\n",
    "    x = np.insert(x, 0, -1)\n",
    "    \n",
    "    return activation(np.dot(x, w))\n"
   ]
  },
  {
   "cell_type": "markdown",
   "metadata": {
    "collapsed": true,
    "id": "_yNmYeis9F46"
   },
   "source": [
    "**Tasks**\n",
    "\n",
    "1. Pick a random weight vector $\\mathbf{w}$. Write down the chosen weights and print the neuron response for following inputs (for each activation function):\n",
    "\n",
    "$x_1 = [0.5, 1, 0.7]^T$\n",
    "\n",
    "$x_2 = [0, 0.8, 0.2]^T$\n"
   ]
  },
  {
   "cell_type": "code",
   "execution_count": 43,
   "metadata": {
    "collapsed": true,
    "id": "s4hbrvRK9F48",
    "ExecuteTime": {
     "end_time": "2023-10-19T18:27:08.668933Z",
     "start_time": "2023-10-19T18:27:08.651734Z"
    }
   },
   "outputs": [
    {
     "data": {
      "text/plain": "<IPython.core.display.Latex object>",
      "text/latex": "$\\mathbf{w} = [0.8845743640826841, 0.512237569500396, 0.7080012387533312, 0.9959439334341835]$"
     },
     "metadata": {},
     "output_type": "display_data"
    },
    {
     "data": {
      "text/plain": "<IPython.core.display.Latex object>",
      "text/latex": "$x_1 = [0.5, 1, 0.7]^T$"
     },
     "metadata": {},
     "output_type": "display_data"
    },
    {
     "data": {
      "text/plain": "<IPython.core.display.Latex object>",
      "text/latex": "$x_2 = [0, 0.8, 0.2]^T$"
     },
     "metadata": {},
     "output_type": "display_data"
    },
    {
     "data": {
      "text/plain": "<IPython.core.display.Latex object>",
      "text/latex": "Neuron response for $x_1$ and $\\mathbf{w}$ with step function -> $1$"
     },
     "metadata": {},
     "output_type": "display_data"
    },
    {
     "data": {
      "text/plain": "<IPython.core.display.Latex object>",
      "text/latex": "Neuron response for $x_2$ and $\\mathbf{w}$ with step function -> $0$"
     },
     "metadata": {},
     "output_type": "display_data"
    },
    {
     "data": {
      "text/plain": "<IPython.core.display.Latex object>",
      "text/latex": "Neuron response for $x_1$ and $\\mathbf{w}$ with ramp function -> $0.7767064128247736$"
     },
     "metadata": {},
     "output_type": "display_data"
    },
    {
     "data": {
      "text/plain": "<IPython.core.display.Latex object>",
      "text/latex": "Neuron response for $x_2$ and $\\mathbf{w}$ with ramp function -> $0$"
     },
     "metadata": {},
     "output_type": "display_data"
    },
    {
     "data": {
      "text/plain": "<IPython.core.display.Latex object>",
      "text/latex": "Neuron response for $x_1$ and $\\mathbf{w}$ with sigmoid function -> $0.6849698367638468$"
     },
     "metadata": {},
     "output_type": "display_data"
    },
    {
     "data": {
      "text/plain": "<IPython.core.display.Latex object>",
      "text/latex": "Neuron response for $x_2$ and $\\mathbf{w}$ with sigmoid function -> $0.4702888976281944$"
     },
     "metadata": {},
     "output_type": "display_data"
    }
   ],
   "source": [
    "from IPython.display import display, Latex\n",
    "\n",
    "def array_to_string(array) -> str:\n",
    "    return f\"[{', '.join([str(x) for x in array])}]\"\n",
    "\n",
    "weights = np.random.rand(4)\n",
    "\n",
    "display(Latex(f\"$\\mathbf{{w}} = {array_to_string(weights)}$\"))\n",
    "\n",
    "x1=np.array([0.5, 1, 0.7])\n",
    "x2=np.array([0, 0.8, 0.2])\n",
    "\n",
    "display(Latex(\"$x_1 = [0.5, 1, 0.7]^T$\"))\n",
    "display(Latex(\"$x_2 = [0, 0.8, 0.2]^T$\"))\n",
    "\n",
    "display(Latex(f\"Neuron response for $x_1$ and $\\mathbf{{w}}$ with step function -> ${neuron(x1, weights, step_function)}$\"))\n",
    "display(Latex(f\"Neuron response for $x_2$ and $\\mathbf{{w}}$ with step function -> ${neuron(x2, weights, step_function)}$\"))\n",
    "\n",
    "display(Latex(f\"Neuron response for $x_1$ and $\\mathbf{{w}}$ with ramp function -> ${neuron(x1, weights, ramp_function)}$\"))\n",
    "display(Latex(f\"Neuron response for $x_2$ and $\\mathbf{{w}}$ with ramp function -> ${neuron(x2, weights, ramp_function)}$\"))\n",
    "\n",
    "display(Latex(f\"Neuron response for $x_1$ and $\\mathbf{{w}}$ with sigmoid function -> ${neuron(x1, weights, sigmoid_function)}$\"))\n",
    "display(Latex(f\"Neuron response for $x_2$ and $\\mathbf{{w}}$ with sigmoid function -> ${neuron(x2, weights, sigmoid_function)}$\"))\n"
   ]
  },
  {
   "cell_type": "markdown",
   "metadata": {
    "id": "LkowtAeH9F49"
   },
   "source": [
    "## 1.2 Three neuron network\n",
    "\n",
    "Write a function for a three neuron network (Figure 2) using the function developed in section 1.1.. Assume that neurons use the sigmoid transfer function, where $a=1$ and assume the weights are given as follows:\n",
    "\n",
    "$w_1=[1, 0.5, 1, -0.4]$\n",
    "\n",
    "$w_2=[0.5, 0.6, -1.5, -0.7]$\n",
    "\n",
    "$w_3=[-0.5, -1.5, 0.6]$\n",
    "\n",
    "*Remark*: The first element of the weight vector is the threshold of a neuron and is shown as $w_{i0}$ in Figure 2.\n",
    "\n",
    "![three.png](data:image/png;base64,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)\n",
    "\n",
    "Figure 2. Three neuron network\n",
    "\n"
   ]
  },
  {
   "cell_type": "markdown",
   "source": [
    "**Tasks**\n",
    "\n",
    "1. Write the code for calculating the output of the network shown in Fig. 2."
   ],
   "metadata": {
    "id": "-4JCb0GmAR38"
   }
  },
  {
   "cell_type": "code",
   "execution_count": 58,
   "metadata": {
    "collapsed": true,
    "id": "KdjCsILg9F4_",
    "ExecuteTime": {
     "end_time": "2023-10-19T18:37:07.217277Z",
     "start_time": "2023-10-19T18:37:07.202257Z"
    }
   },
   "outputs": [],
   "source": [
    "def three_neuron_network(x, w1=np.array([1, 0.5, 1, -0.4]), w2=np.array([0.5, 0.6, -1.5, -0.7]), w3=np.array([-0.5, -1.5, 0.6])):\n",
    "    neuron_one_output = neuron(x, w1, sigmoid_function)\n",
    "    neuron_two_output = neuron(x, w2, sigmoid_function)\n",
    "    \n",
    "    combined_output = np.array([neuron_one_output, neuron_two_output])\n",
    "    \n",
    "    return neuron(combined_output, w3, sigmoid_function)\n",
    " "
   ]
  },
  {
   "cell_type": "markdown",
   "metadata": {
    "id": "X-L5Y0Lg9F5A"
   },
   "source": [
    "**Tasks**\n",
    "\n",
    "1. Print the output of the network for input given as $x=[0.3, 0.7, 0.9]^T$.\n",
    "2. Does the output of the network depend on neuron weights?"
   ]
  },
  {
   "cell_type": "code",
   "execution_count": 67,
   "outputs": [
    {
     "data": {
      "text/plain": "<IPython.core.display.Latex object>",
      "text/latex": "For input $x=[0.3, 0.7, 0.9]^T$ with the assigned weights the output is $0.5021828523608841$"
     },
     "metadata": {},
     "output_type": "display_data"
    },
    {
     "data": {
      "text/plain": "<IPython.core.display.Latex object>",
      "text/latex": "For the same input $x=[0.3, 0.7, 0.9]^T$ with different weights the output is $0.42741405886725986$"
     },
     "metadata": {},
     "output_type": "display_data"
    },
    {
     "data": {
      "text/plain": "<IPython.core.display.Latex object>",
      "text/latex": "If we change the weights again for the same input $x=[0.3, 0.7, 0.9]^T$ the output is $0.4016589608274512$"
     },
     "metadata": {},
     "output_type": "display_data"
    },
    {
     "data": {
      "text/plain": "<IPython.core.display.Latex object>",
      "text/latex": "The output does indeed depend on the neuron weights."
     },
     "metadata": {},
     "output_type": "display_data"
    }
   ],
   "source": [
    "x = np.array([0.3, 0.7, 0.9])\n",
    "\n",
    "display(Latex(f\"For input $x=[0.3, 0.7, 0.9]^T$ with the assigned weights the output is ${three_neuron_network(x)}$\"))\n",
    "\n",
    "w1 = np.array([1.5, 1, 1.5, 0.1])\n",
    "w2 = np.array([1, 1.1, -1, -0.2])\n",
    "w3 = np.array([0, -1, 1.1])\n",
    "\n",
    "display(Latex(f\"For the same input $x=[0.3, 0.7, 0.9]^T$ with different weights the output is ${three_neuron_network(x, w1, w2, w3)}$\"))\n",
    "\n",
    "w1 = np.array([2, 1.5, 2, 0.6])\n",
    "w2 = np.array([1.5, 1.6, -0.5, 0.3])\n",
    "w3 = np.array([0.5, -0.5, 1.6])\n",
    "\n",
    "display(Latex(f\"If we change the weights again for the same input $x=[0.3, 0.7, 0.9]^T$ the output is ${three_neuron_network(x, w1, w2, w3)}$\"))\n",
    "\n",
    "display(Latex(\"The output does indeed depend on the neuron weights.\"))"
   ],
   "metadata": {
    "collapsed": false,
    "ExecuteTime": {
     "end_time": "2023-10-19T18:43:00.391279Z",
     "start_time": "2023-10-19T18:43:00.373395Z"
    }
   }
  },
  {
   "cell_type": "markdown",
   "metadata": {
    "id": "G7-P9ySK9F5C"
   },
   "source": [
    "## 1.3 Delta rule\n",
    "\n",
    "The goal of this experiment is to better understand the learning process. In this experiment we will implement a logical AND function using one neuron with two inputs and a threshold (see Figure 3). We will use the sigmoid nonlinear activation function with $a=1$.\n",
    "\n",
    "For the learning phase, we have to define the following input output pairs $x_i$, $y_i$ for the logical AND function: for inputs $x_1=[-1, 0, 0]^T$, $x_2=[-1, 0, 1]^T$, and $x_3=[-1, 1, 0]^T$ the output $y$ should be equal to $0$; for input vector $x_4=[-1, 1, 1]^T$ the output value $y$ should be equal to $1$. The first component of all input vectors has value $-1$ and defines the neuron threshold visible as $w_{10}$ in Fig. 3. At the beginning we set the neuron weights to random values. We use the delta rule in order to update the weights:\n",
    "\n",
    "$$\\Delta w_{kj}=\\eta e_{k}(n)x_{j}(n)$$\n",
    "\n",
    "where\n",
    "\n",
    "$$e_{k}(n)=d_{k}(n)-y_{k}(n)$$\n",
    "\n",
    "where $d_{k}(n)$ is the expected neuron output and $y_{k}(n)$ is the obtained neuron output. This iterative procedure is repeated until the error is sufficiently small.\n",
    "\n",
    "![one.png](data:image/png;base64,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)\n",
    "\n",
    "Figure 3. One neuron network\n",
    "\n",
    "**Tasks**\n",
    "\n",
    "1. Write the code which iteratively calculates the output of the network and uses the delta rule to update the weights until the error is sufficiently small. Experiment with different starting weights and different learning rates. (In case of instabilities, perform the experiment using a small learning rate, for example $\\eta =0.05$). Show the error function ($y$-axis) and number of iterations ($x$-axis) for different learning rates.\n",
    "\n",
    "    - What is the best learning rate? How does the learning rate affect the neural network?\n",
    "    - How did you define the sufficiently small error used to terminate the algorithm?\n",
    "    - After how many iterations does the algorithm terminate?\n"
   ]
  },
  {
   "cell_type": "code",
   "execution_count": 119,
   "metadata": {
    "collapsed": true,
    "id": "1EYHuVQo9F5E",
    "ExecuteTime": {
     "end_time": "2023-10-19T19:49:24.049947Z",
     "start_time": "2023-10-19T19:49:14.892950Z"
    }
   },
   "outputs": [
    {
     "name": "stdout",
     "output_type": "stream",
     "text": [
      "Error threshold 9.999620199461722e-06 reached after 31688 epochs.\n"
     ]
    },
    {
     "data": {
      "text/plain": "<Figure size 640x480 with 1 Axes>",
      "image/png": "[encoded data removed]"
     },
     "metadata": {},
     "output_type": "display_data"
    },
    {
     "name": "stdout",
     "output_type": "stream",
     "text": [
      "Error threshold 9.999794623329703e-07 reached after 34079 epochs.\n"
     ]
    },
    {
     "data": {
      "text/plain": "<Figure size 640x480 with 1 Axes>",
      "image/png": "[encoded data removed]"
     },
     "metadata": {},
     "output_type": "display_data"
    },
    {
     "name": "stdout",
     "output_type": "stream",
     "text": [
      "Error threshold 9.999933361727813e-08 reached after 53814 epochs.\n"
     ]
    },
    {
     "data": {
      "text/plain": "<Figure size 640x480 with 1 Axes>",
      "image/png": "[encoded data removed]"
     },
     "metadata": {},
     "output_type": "display_data"
    },
    {
     "name": "stdout",
     "output_type": "stream",
     "text": [
      "Error threshold 9.999807963176594e-09 reached after 68044 epochs.\n"
     ]
    },
    {
     "data": {
      "text/plain": "<Figure size 640x480 with 1 Axes>",
      "image/png": "[encoded data removed]"
     },
     "metadata": {},
     "output_type": "display_data"
    },
    {
     "name": "stdout",
     "output_type": "stream",
     "text": [
      "Final results:\n",
      "Input: [0 0], Target: 0, Prediction: 0.0000000000\n",
      "Input: [0 1], Target: 0, Prediction: 0.0001005015\n",
      "Input: [1 0], Target: 0, Prediction: 0.0001005077\n",
      "Input: [1 1], Target: 1, Prediction: 0.9998593261\n"
     ]
    }
   ],
   "source": [
    "import matplotlib.pyplot as plt\n",
    "\n",
    "x1 = [0, 0]\n",
    "x2 = [0, 1]\n",
    "x3 = [1, 0]\n",
    "x4 = [1, 1]\n",
    "    \n",
    "X = np.array([x1, x2, x3, x4])\n",
    "Y = np.array([0, 0, 0, 1])\n",
    "    \n",
    "w = np.random.rand(3)\n",
    "\n",
    "def train(X, Y, w, epochs=int(1e5), learning_rate=0.1, error_threshold=1e-8):    \n",
    "    error_function_outputs = np.array([])\n",
    "    \n",
    "    for epoch in range(epochs):\n",
    "        total_error = 0\n",
    "        \n",
    "        for x, y in zip(X, Y):\n",
    "            neuron_output = neuron(x, w, sigmoid_function)\n",
    "            error = y - neuron_output\n",
    "            \n",
    "            total_error += np.square(error)\n",
    "            \n",
    "            w += learning_rate * error * np.insert(x, 0, - 1)\n",
    "        \n",
    "        mean_error_squared = total_error / len(X)\n",
    "        \n",
    "        error_function_outputs = np.append(error_function_outputs, mean_error_squared)\n",
    "        \n",
    "        if mean_error_squared < error_threshold:\n",
    "            print(f\"Error threshold {mean_error_squared} reached after {epoch} epochs.\")\n",
    "            break\n",
    "        \n",
    "        if epoch == epochs - 1:\n",
    "            print(\"Error threshold not reached\")\n",
    "    \n",
    "    plt.plot(error_function_outputs)\n",
    "    plt.title(fr\"Learning rate = ${learning_rate}$, Error threshold = ${error_threshold}$\")\n",
    "    plt.xlabel(\"Number of iterations\")\n",
    "    plt.ylabel(\"Error\")\n",
    "    plt.show()\n",
    "    \n",
    "    return w\n",
    "\n",
    "w = train(X, Y, w, learning_rate=0.05, error_threshold=1e-5)\n",
    "\n",
    "w = train(X, Y, w, learning_rate=0.1, error_threshold=1e-6)\n",
    "\n",
    "w = train(X, Y, w, learning_rate=0.2, error_threshold=1e-7)\n",
    "\n",
    "w = train(X, Y, w, learning_rate=0.5, error_threshold=1e-8)\n",
    "\n",
    "print(\"Final results:\")\n",
    "\n",
    "for x, y in zip(X, Y):\n",
    "    neuron_output = neuron(x, w, sigmoid_function)\n",
    "    \n",
    "    print(f\"Input: {x}, Target: {y}, Prediction: {neuron_output:.10f}\")\n"
   ]
  },
  {
   "cell_type": "markdown",
   "source": [
    "1. What is the best learning rate? How does the learning rate affect the neural network?\n",
    "    - In the case of my results the best learning rate was 0.5. Anything larger than that would cause the algorithm to finish in only a couple of epochs. I tried decreasing the error threshold but in that case the algorithm never converged.\n",
    "2. How did you define the sufficiently small error used to terminate the algorithm?\n",
    "    - First I chose the epoch count. The best fit for my machine was 100000. This produced a result within a few seconds. After that I chose an error threshold (some negative power of 10) which would cause the algorithm to converge within those 100000 epochs.\n",
    "3. After how many iterations does the algorithm terminate?\n",
    "    - Depends on the learning rate, error threshold and starting weights, but usually between 30k and 80k epochs."
   ],
   "metadata": {
    "collapsed": false
   }
  },
  {
   "cell_type": "markdown",
   "metadata": {
    "id": "4Ras9LBcEX3T"
   },
   "source": [
    "# Exercise 2: Associative memory\n",
    "\n",
    "## 2.1 Forming the correlation matrix directly\n",
    "\n",
    "In this part of the exercise we will use the direct approach in forming the correlation matrix. Memory based on the correlation matrix should memorize input-output association pairs represented as vectors. For each input vector (key) the memory has to memorize the output pattern i.e. vector in an ASCII code formulation. In this example we will use 4-dimensional input and output vectors. Words (output vectos) that have to be memorized are: '*vrat*' , '*kraj*' , '*cres*' , '*otac*'. Vectors $b_i$, which represent those words should be formed as follows:"
   ]
  },
  {
   "cell_type": "code",
   "execution_count": 825,
   "metadata": {
    "collapsed": true,
    "id": "BNFSG7kyEX3a",
    "ExecuteTime": {
     "end_time": "2023-10-19T22:32:36.827200Z",
     "start_time": "2023-10-19T22:32:36.819244Z"
    }
   },
   "outputs": [],
   "source": [
    "real=lambda x: np.array([[ord(character) for character in x]]).T\n",
    "\n",
    "b1 = real(\"vrat\")\n",
    "b2 = real(\"kraj\")\n",
    "b3 = real(\"cres\")\n",
    "b4 = real(\"otac\")"
   ]
  },
  {
   "cell_type": "markdown",
   "metadata": {
    "id": "Ao-rzIgfEX3e"
   },
   "source": [
    "### 2.1.1 Orthogonal input vectors\n",
    "\n",
    "This experiment demonstrates how to create an associative memory. Ortonormalized set of vectors defined as below"
   ]
  },
  {
   "cell_type": "code",
   "execution_count": 826,
   "metadata": {
    "collapsed": true,
    "id": "pVm6A0q4EX3h",
    "ExecuteTime": {
     "end_time": "2023-10-19T22:32:38.004151Z",
     "start_time": "2023-10-19T22:32:37.996190Z"
    }
   },
   "outputs": [],
   "source": [
    "a1 = np.array([[1, 0, 0, 0]]).T\n",
    "a2 = np.array([[0, 1, 0, 0]]).T\n",
    "a3 = np.array([[0, 0, 1, 0]]).T\n",
    "a4 = np.array([[0, 0, 0, 1]]).T"
   ]
  },
  {
   "cell_type": "markdown",
   "metadata": {
    "id": "rN4L5rnGEX3l"
   },
   "source": [
    "is used as input vector set (set of keys). We form the memory correlation matrix $\\mathbf{M}$ using input output pairs as follows:"
   ]
  },
  {
   "cell_type": "code",
   "execution_count": 827,
   "metadata": {
    "id": "ngsZflODEX3n",
    "ExecuteTime": {
     "end_time": "2023-10-19T22:32:39.370851Z",
     "start_time": "2023-10-19T22:32:39.367891Z"
    }
   },
   "outputs": [
    {
     "name": "stdout",
     "output_type": "stream",
     "text": [
      "[[118 107  99 111]\n",
      " [114 114 114 116]\n",
      " [ 97  97 101  97]\n",
      " [116 106 115  99]]\n"
     ]
    }
   ],
   "source": [
    "M = b1 * a1.T + b2 * a2.T + b3 * a3.T + b4 * a4.T\n",
    "print(M)"
   ]
  },
  {
   "cell_type": "markdown",
   "metadata": {
    "id": "On1ZcPfXEX3o"
   },
   "source": [
    "In order to verify whether the memory is functioning properly, we have to calculate outputs for each input vector. For example, the output for the key $a_1$ can be obtained as follows:"
   ]
  },
  {
   "cell_type": "code",
   "execution_count": 828,
   "metadata": {
    "id": "YFnjse56EX3p",
    "ExecuteTime": {
     "end_time": "2023-10-19T22:32:40.675362Z",
     "start_time": "2023-10-19T22:32:40.666288Z"
    }
   },
   "outputs": [
    {
     "name": "stdout",
     "output_type": "stream",
     "text": [
      "vrat\n"
     ]
    }
   ],
   "source": [
    "import warnings\n",
    "\n",
    "warnings.filterwarnings(\"ignore\")\n",
    "\n",
    "char = lambda x: \"\".join(map(chr, map(int, list(x))))\n",
    "\n",
    "word = char(M@a1)\n",
    "print(word)"
   ]
  },
  {
   "cell_type": "markdown",
   "metadata": {
    "id": "u4VyIMgjEX3s"
   },
   "source": [
    "**Tasks**\n",
    "\n",
    "For each key, print the key and the corresponding output.\n",
    "1. Were all input-output pairs memorized correctly?\n",
    "2. How many input-output pairs would be memorized if vectors $a_i$ were not normalized?"
   ]
  },
  {
   "cell_type": "code",
   "execution_count": 829,
   "metadata": {
    "id": "s5ln9tGzEX3u",
    "ExecuteTime": {
     "end_time": "2023-10-19T22:32:42.037260Z",
     "start_time": "2023-10-19T22:32:42.032636Z"
    }
   },
   "outputs": [
    {
     "name": "stdout",
     "output_type": "stream",
     "text": [
      "[[1 0 0 0]] vrat\n",
      "[[0 1 0 0]] kraj\n",
      "[[0 0 1 0]] cres\n",
      "[[0 0 0 1]] otac\n"
     ]
    }
   ],
   "source": [
    "for key in [a1, a2, a3, a4]:\n",
    "    print(key.T, char(M@key))"
   ]
  },
  {
   "cell_type": "markdown",
   "source": [
    "Were all input-output pairs memorized correctly?\n",
    "    - Yes they were.\n",
    "    \n",
    "How many input-output pairs would be memorized if vectors $a_i$ were not normalized?\n",
    "    - If we denormalize the vectors (multiply each one by two for example) no values would be memorized"
   ],
   "metadata": {
    "collapsed": false
   }
  },
  {
   "cell_type": "code",
   "execution_count": 830,
   "outputs": [
    {
     "name": "stdout",
     "output_type": "stream",
     "text": [
      "[[236 214 198 222]\n",
      " [228 228 228 232]\n",
      " [194 194 202 194]\n",
      " [232 212 230 198]]\n",
      "\n",
      "[[2 0 0 0]] ǘǈƄǐ\n",
      "[[0 2 0 0]] ƬǈƄƨ\n",
      "[[0 0 2 0]] ƌǈƔǌ\n",
      "[[0 0 0 2]] ƼǐƄƌ\n"
     ]
    }
   ],
   "source": [
    "a5 = np.array([[2, 0, 0, 0]]).T\n",
    "a6 = np.array([[0, 2, 0, 0]]).T\n",
    "a7 = np.array([[0, 0, 2, 0]]).T\n",
    "a8 = np.array([[0, 0, 0, 2]]).T\n",
    "\n",
    "M = b1 * a5.T + b2 * a6.T + b3 * a7.T + b4 * a8.T\n",
    "print(M)\n",
    "print()\n",
    "\n",
    "for key in [a5, a6, a7, a8]:\n",
    "    print(key.T, char(M@key))"
   ],
   "metadata": {
    "collapsed": false,
    "ExecuteTime": {
     "end_time": "2023-10-19T22:32:43.280321Z",
     "start_time": "2023-10-19T22:32:43.272998Z"
    }
   }
  },
  {
   "cell_type": "markdown",
   "metadata": {
    "id": "h6T9OyuREX3v"
   },
   "source": [
    "### 2.1.2 Correlation matrix properties\n",
    "\n",
    "The goal of this experiment is to demonstrate the capacity of obtained memory. In this part of the exercise we will try to memorize one more (fifth) word ('*mrak*'). In 4-dimensional vector space the maximum number of linearly independent vectors is four. Because of this fact, we pick an arbitrary unit vector as the fifth key, for example:"
   ]
  },
  {
   "cell_type": "code",
   "execution_count": 831,
   "metadata": {
    "collapsed": true,
    "id": "HLsfSCNLEX3x",
    "ExecuteTime": {
     "end_time": "2023-10-19T22:32:45.436159Z",
     "start_time": "2023-10-19T22:32:45.423009Z"
    }
   },
   "outputs": [],
   "source": [
    "a1 = np.array([[1, 0, 0, 0]]).T\n",
    "a2 = np.array([[0, 1, 0, 0]]).T\n",
    "a3 = np.array([[0, 0, 1, 0]]).T\n",
    "a4 = np.array([[0, 0, 0, 1]]).T\n",
    "\n",
    "a5 = (a1 + a3) / np.sqrt(2)"
   ]
  },
  {
   "cell_type": "markdown",
   "metadata": {
    "id": "ofrf5lyKEX3x"
   },
   "source": [
    "Form vectors $b_5$ ('*mrak*') and $a_5$ as explained and add them into the memory using the following expression:"
   ]
  },
  {
   "cell_type": "code",
   "execution_count": 832,
   "metadata": {
    "collapsed": true,
    "id": "4-cyzpzvEX3y",
    "ExecuteTime": {
     "end_time": "2023-10-19T22:32:46.982354Z",
     "start_time": "2023-10-19T22:32:46.969911Z"
    }
   },
   "outputs": [],
   "source": [
    "b5 = real(\"mrak\")\n",
    "M_five = b1 * a1.T + b2 * a2.T + b3 * a3.T + b4 * a4.T + b5 * a5.T"
   ]
  },
  {
   "cell_type": "markdown",
   "metadata": {
    "id": "MzzYkDG3EX3y"
   },
   "source": [
    "**Tasks**\n",
    "\n",
    "Once again, print each key and the corresponding output.\n",
    "1. Was the new association properly memorized?\n",
    "2. Did other associations stay correctly memorized?\n",
    "    - If not - which were not memorized correctly and why?\n",
    "    - If yes - which were memorized correctly and why?"
   ]
  },
  {
   "cell_type": "code",
   "execution_count": 833,
   "metadata": {
    "id": "2uBnReggEX3z",
    "ExecuteTime": {
     "end_time": "2023-10-19T22:32:48.550550Z",
     "start_time": "2023-10-19T22:32:48.548105Z"
    }
   },
   "outputs": [
    {
     "name": "stdout",
     "output_type": "stream",
     "text": [
      "[[1 0 0 0]] ÃÂ¥¿\n",
      "[[0 1 0 0]] kraj\n",
      "[[0 0 1 0]] °Â©¾\n",
      "[[0 0 0 1]] otac\n",
      "[[0.70710678 0.         0.70710678 0.        ]] ĆēíĎ\n"
     ]
    }
   ],
   "source": [
    "for key in [a1, a2, a3, a4, a5]:\n",
    "    print(key.T, char(M_five@key))"
   ]
  },
  {
   "cell_type": "markdown",
   "source": [
    "Was the new association properly memorized?\n",
    "    - No it wasn't\n",
    "Did other associations stay correctly memorized?\n",
    "    - 'kraj' and 'otac' were memorized correctly because their rows weren't modified with additional data\n",
    "    - 'vrat' and 'cres' weren't memorized correctly because new data was added to rows 1 and 3 containing info about the word 'mrak'\n",
    "    - 'mrak' wasn't memorized correctly because we already had data present in rows 1 and 3 containing info about the words 'vrat' and 'cres'"
   ],
   "metadata": {
    "collapsed": false
   }
  },
  {
   "cell_type": "markdown",
   "metadata": {
    "id": "E74NXZImEX3z"
   },
   "source": [
    "### 2.1.3 Word pairs as associations\n",
    "\n",
    "In this experiment we will form the associative memory, which memorizes word pairs. The associations, which have to be memorized are: *ruka*-*vrat*, *kset*-*kraj*, *more*-*cres*, *mama*-*otac*. Generate input vectors (keys) as follows:"
   ]
  },
  {
   "cell_type": "code",
   "execution_count": 834,
   "metadata": {
    "id": "0ot8iPuREX31",
    "ExecuteTime": {
     "end_time": "2023-10-19T22:32:50.287122Z",
     "start_time": "2023-10-19T22:32:50.284343Z"
    }
   },
   "outputs": [
    {
     "name": "stdout",
     "output_type": "stream",
     "text": [
      "[[47791 47867 46818 44624]\n",
      " [50264 50354 49352 47048]\n",
      " [43019 43124 42263 40271]\n",
      " [47892 48130 47019 44766]]\n"
     ]
    }
   ],
   "source": [
    "a1 = real(\"ruka\")\n",
    "a2 = real(\"kset\")\n",
    "a3 = real(\"more\")\n",
    "a4 = real(\"mama\")\n",
    "M = b1 * a1.T + b2 * a2.T + b3 * a3.T + b4 * a4.T\n",
    "print(M)"
   ]
  },
  {
   "cell_type": "markdown",
   "metadata": {
    "id": "v3iVAIkeEX31"
   },
   "source": [
    "**Tasks**\n",
    "\n",
    "1. What is the response for each input key?\n",
    "2. Which associations were memorized correctly?\n",
    "3. Which associations were not memorized correctly and why?\n",
    "4. How can we fix this problem?"
   ]
  },
  {
   "cell_type": "code",
   "execution_count": 835,
   "metadata": {
    "id": "7rWIfT6rEX31",
    "ExecuteTime": {
     "end_time": "2023-10-19T22:32:52.463155Z",
     "start_time": "2023-10-19T22:32:52.459712Z"
    }
   },
   "outputs": [
    {
     "name": "stdout",
     "output_type": "stream",
     "text": [
      "ruka [[20386667 21465834 18378102 20464233]]\n",
      "kset [[20523344 21611078 18502292 20601169]]\n",
      "more [[20366732 21446046 18361188 20444190]]\n",
      "mama [[19284008 20306138 17385053 19356211]]\n"
     ]
    }
   ],
   "source": [
    "for key in [a1, a2, a3, a4]:\n",
    "    try:\n",
    "        print(char(key), char(M@key))\n",
    "    except ValueError:\n",
    "        print(char(key), (M@key).T)"
   ]
  },
  {
   "cell_type": "markdown",
   "source": [
    "What is the response for each input key?\n",
    "    - There is no response because an error is thrown (`chr() arg not in range(0x110000)`)\n",
    "Which associations were memorized correctly?\n",
    "    - None of them\n",
    "Which associations were not memorized correctly and why?\n",
    "    - All of them because the values were too large\n",
    "How can we fix this problem?\n",
    "    - We can fix this by orthogonalizing the input vectors"
   ],
   "metadata": {
    "collapsed": false
   }
  },
  {
   "cell_type": "markdown",
   "metadata": {
    "id": "AOdfhfFBEX32"
   },
   "source": [
    "### 2.1.4 Input vector orthogonalization\n",
    "\n",
    "In this experiment we show an associative memory, which uses keys that are orthonormalized. We use the Gram-Schmidt orthogonalization method as follows. We first form the matrix $\\mathbf{A}$ using vectors $a_i$:"
   ]
  },
  {
   "cell_type": "code",
   "execution_count": 871,
   "metadata": {
    "collapsed": true,
    "id": "7lOeQVcqEX33",
    "ExecuteTime": {
     "end_time": "2023-10-19T22:36:44.862909Z",
     "start_time": "2023-10-19T22:36:44.841401Z"
    }
   },
   "outputs": [],
   "source": [
    "A=np.hstack([a1, a2, a3, a4])"
   ]
  },
  {
   "cell_type": "markdown",
   "metadata": {
    "id": "VOoWubR_EX33"
   },
   "source": [
    "After this step we perform the orthonormalization step:"
   ]
  },
  {
   "cell_type": "code",
   "execution_count": 872,
   "metadata": {
    "collapsed": true,
    "id": "MZuq4n7xEX34",
    "ExecuteTime": {
     "end_time": "2023-10-19T22:36:46.202768Z",
     "start_time": "2023-10-19T22:36:46.198636Z"
    }
   },
   "outputs": [],
   "source": [
    "from scipy.linalg import orth\n",
    "\n",
    "C=orth(A.T)"
   ]
  },
  {
   "cell_type": "markdown",
   "metadata": {
    "id": "K02dLB9nEX34"
   },
   "source": [
    "We extract individual orthonormal vectors $c_i$:"
   ]
  },
  {
   "cell_type": "code",
   "execution_count": 873,
   "metadata": {
    "collapsed": true,
    "id": "joX2r032EX34",
    "ExecuteTime": {
     "end_time": "2023-10-19T22:36:47.406911Z",
     "start_time": "2023-10-19T22:36:47.398334Z"
    }
   },
   "outputs": [],
   "source": [
    "c1=np.array([C[0]]).T\n",
    "c2=np.array([C[1]]).T\n",
    "c3=np.array([C[2]]).T\n",
    "c4=np.array([C[3]]).T"
   ]
  },
  {
   "cell_type": "markdown",
   "metadata": {
    "id": "SDkhSnNBEX35"
   },
   "source": [
    "In the next step we form a new matrix $\\mathbf{M}$ using vectors $c_i$ instead of vectors $a_i$ when creating the matrix $\\mathbf{M}$."
   ]
  },
  {
   "cell_type": "code",
   "execution_count": 874,
   "metadata": {
    "id": "D7hCJwKCEX35",
    "ExecuteTime": {
     "end_time": "2023-10-19T22:36:52.898299Z",
     "start_time": "2023-10-19T22:36:52.884427Z"
    }
   },
   "outputs": [],
   "source": [
    "M = b1 * c1.T + b2 * c2.T + b3 * c3.T + b4 * c4.T"
   ]
  },
  {
   "cell_type": "markdown",
   "source": [
    "**Tasks**\n",
    "\n",
    "Verify the responses of matrix $\\mathbf{M}$ with vectors $c_i$ as inputs.\n",
    "1. What is the effect of vector orthonormalization?\n",
    "2. How many pairs were correctly memorized?\n",
    "3. What can we expect when normalizing the vectors?\n",
    "4. What can we expect when only orthogonalizing the vectors?\n",
    "5. What can we expect if vectors $c_i$ are linearly independent but not orthogonal?"
   ],
   "metadata": {
    "id": "KaP3uNsMMU4T"
   }
  },
  {
   "cell_type": "code",
   "source": [
    "for key in [c1, c2, c3, c4]:\n",
    "    try:\n",
    "        print(char(key), char(M@key))\n",
    "    except ValueError:\n",
    "        print(\"Missing value\")"
   ],
   "metadata": {
    "id": "XtUSSnS8MUlH",
    "ExecuteTime": {
     "end_time": "2023-10-19T22:37:03.247420Z",
     "start_time": "2023-10-19T22:37:03.226242Z"
    }
   },
   "execution_count": 876,
   "outputs": [
    {
     "name": "stdout",
     "output_type": "stream",
     "text": [
      "\u0000\u0000\u0000\u0000 uq`s\n",
      "\u0000\u0000\u0000\u0000 jq`i\n",
      "\u0000\u0000\u0000\u0000 bqdr\n",
      "\u0000\u0000\u0000\u0000 ns`b\n"
     ]
    }
   ]
  },
  {
   "cell_type": "markdown",
   "source": [
    "What is the effect of vector orthonormalization?\n",
    "    - Vectors become both orthogonal and normalized and this reduces noise\n",
    "How many pairs were correctly memorized?\n",
    "    - Zero\n",
    "What can we expect when normalizing the vectors?\n",
    "    - Each value in the vector will be between 0 and 1\n",
    "What can we expect when only orthogonalizing the vectors?\n",
    "    - Values might be too large which will cause a `ValueError` like in section 2.1.3\n",
    "What can we expect if vectors $c_i$ are linearly independent but not orthogonal?\n",
    "    - The scalar product of linearly independent vectors can be different from zero which can lead to noise, unlike the scalar product of orthogonal vectors which is always zero"
   ],
   "metadata": {
    "collapsed": false
   }
  },
  {
   "cell_type": "markdown",
   "metadata": {
    "id": "cRuJrxmQEX35"
   },
   "source": [
    "### 2.1.5 Finding the correlation matrix using matrix inversion\n",
    "\n",
    "For previously used word pairs (*ruka*-*vrat*, *kset*-*kraj*, *more*-*cres*, *mama*-*otac*) find a $4\\times 4$ correlation matrix $\\mathbf{M}$ as $\\mathbf{M} = \\mathbf{B}\\mathbf{A}^{-1}$, where matrix $\\mathbf{B}$ is defined as:"
   ]
  },
  {
   "cell_type": "code",
   "execution_count": 438,
   "metadata": {
    "collapsed": true,
    "id": "SH9tuoUVEX36",
    "ExecuteTime": {
     "end_time": "2023-10-19T21:09:40.593539Z",
     "start_time": "2023-10-19T21:09:40.587798Z"
    }
   },
   "outputs": [],
   "source": [
    "B=np.hstack([b1, b2, b3, b4])\n",
    "M=B@np.linalg.inv(A)"
   ]
  },
  {
   "cell_type": "markdown",
   "metadata": {
    "id": "PHVmACT0EX36"
   },
   "source": [
    "**Tasks**\n",
    "\n",
    "1. Were all associations properly memorized? Remark: The result should be rounded to the nearest number before comparison."
   ]
  },
  {
   "cell_type": "code",
   "execution_count": 439,
   "metadata": {
    "id": "z2_ApOktEX36",
    "ExecuteTime": {
     "end_time": "2023-10-19T21:09:42.198723Z",
     "start_time": "2023-10-19T21:09:42.194664Z"
    }
   },
   "outputs": [
    {
     "name": "stdout",
     "output_type": "stream",
     "text": [
      "ruka vrat\n",
      "kset kraj\n",
      "more cres\n",
      "mama otac\n"
     ]
    }
   ],
   "source": [
    "for key in [a1, a2, a3, a4]:\n",
    "    print(char(key), char(np.round(M@key)))"
   ]
  },
  {
   "cell_type": "markdown",
   "source": [
    "Were all associations properly memorized? Remark: The result should be rounded to the nearest number before comparison.\n",
    "    - All associations were properly memorized."
   ],
   "metadata": {
    "collapsed": false
   }
  },
  {
   "cell_type": "markdown",
   "metadata": {
    "id": "KL3h5X3aEX37"
   },
   "source": [
    "### 2.1.6 Finding the correlation matrix using pseudo-inversion\n",
    "\n",
    "A pseudo-inverse matrix can be used in order to find the correlation matrix when number of associations is larger than dimensionality of vectors representing the associations. In this case, the correlation matrix can be found as $\\mathbf{M} = \\mathbf{B}\\mathbf{A}^{+}$, where $\\mathbf{A}^{+}$ is a pseudo-inverse matrix defined as $\\mathbf{A}^{+} = \\mathbf{A}^{T}(\\mathbf{A}\\mathbf{A}^{T})^{-1}$."
   ]
  },
  {
   "cell_type": "markdown",
   "metadata": {
    "id": "QmWwU9LFEX37"
   },
   "source": [
    "Assume that the vectors $a_i$ and $b_i$ are defined previously (five associations in total). Find the pseudo-inverse matrix for this case."
   ]
  },
  {
   "cell_type": "code",
   "execution_count": 451,
   "metadata": {
    "collapsed": true,
    "id": "HS32ndNWEX37",
    "ExecuteTime": {
     "end_time": "2023-10-19T21:13:56.876163Z",
     "start_time": "2023-10-19T21:13:56.869522Z"
    }
   },
   "outputs": [],
   "source": [
    "a1 = np.array([[1, 0, 0, 0]]).T\n",
    "a2 = np.array([[0, 1, 0, 0]]).T\n",
    "a3 = np.array([[0, 0, 1, 0]]).T\n",
    "a4 = np.array([[0, 0, 0, 1]]).T\n",
    "\n",
    "a5 = (a1 + a3) / np.sqrt(2)\n",
    "\n",
    "A=np.hstack([a1, a2, a3, a4, a5])\n",
    "B=np.hstack([b1, b2, b3, b4, b5])\n",
    "A_pseudo=A.T@np.linalg.inv(A@A.T)\n",
    "M=B@A_pseudo"
   ]
  },
  {
   "cell_type": "markdown",
   "metadata": {
    "id": "6aBlqcOQEX38"
   },
   "source": [
    "**Tasks**\n",
    "\n",
    "1. Were all pairs memorized correctly?\n",
    "2. If not, what is the error between expected and obtained values?"
   ]
  },
  {
   "cell_type": "code",
   "execution_count": 458,
   "metadata": {
    "id": "raRroelPEX38",
    "ExecuteTime": {
     "end_time": "2023-10-19T21:20:11.651013Z",
     "start_time": "2023-10-19T21:20:11.643546Z"
    }
   },
   "outputs": [
    {
     "name": "stdout",
     "output_type": "stream",
     "text": [
      "[[1 0 0 0]], faR`, error=[[-15.71268043 -16.69491347 -15.20532111 -19.91978721]]\n",
      "[[0 1 0 0]], kraj, error=[[0. 0. 0. 0.]]\n",
      "[[0 0 1 0]], SaV_, error=[[-15.71268043 -16.69491347 -15.20532111 -19.91978721]]\n",
      "[[0 0 0 1]], otac, error=[[0. 0. 0. 0.]]\n",
      "[[0.70710678 0.         0.70710678 0.        ]], w, error=[[22.22108576 23.61017306 21.50357134 28.17083323]]\n"
     ]
    }
   ],
   "source": [
    "for key, expected in zip([a1, a2, a3, a4, a5], [b1, b2, b3, b4, b5]):\n",
    "    print(f\"{key.T}, {char(np.round(M@key))}, error={(M@key - expected).T}\")"
   ]
  },
  {
   "cell_type": "markdown",
   "source": [
    "Were all pairs memorized correctly?\n",
    "    - No, only pairs 'kset' 'kraj' and 'mama' 'otac' because rows a1 and a3 were used to create row a5. This means that pairs in rows a1, a3, and a5 weren't memorized correctly.\n",
    "If not, what is the error between expected and obtained values?\n",
    "    - Errors between the expected and obtained values are displayed above"
   ],
   "metadata": {
    "collapsed": false
   }
  },
  {
   "cell_type": "markdown",
   "metadata": {
    "id": "KATibqmGEX38"
   },
   "source": [
    "## 2.2 Finding the correlation matrix using supervised learning\n",
    "\n",
    "This experiment shows us how to form the matrix $\\mathbf{M}$ using supervised learning. In two following experiments we will use learning with error correction.\n",
    "\n",
    "### 2.2.1 Learning with error correction\n",
    "\n",
    "Form matrices $\\mathbf{A}$ and $\\mathbf{B}$ where each contains 4 vectors stacked in columns as explained in previous experiments. Check the contents of obtained matrices with following operations:"
   ]
  },
  {
   "cell_type": "code",
   "execution_count": 733,
   "metadata": {
    "collapsed": true,
    "id": "wCcHLSthEX38",
    "ExecuteTime": {
     "end_time": "2023-10-19T21:53:33.264025Z",
     "start_time": "2023-10-19T21:53:33.252801Z"
    }
   },
   "outputs": [],
   "source": [
    "a1 = real(\"ruka\")\n",
    "a2 = real(\"kset\")\n",
    "a3 = real(\"more\")\n",
    "a4 = real(\"mama\")\n",
    "\n",
    "b1 = real(\"vrat\")\n",
    "b2 = real(\"kraj\")\n",
    "b3 = real(\"cres\")\n",
    "b4 = real(\"otac\")\n",
    "\n",
    "A = np.hstack([a1, a2, a3, a4])\n",
    "B = np.hstack([b1, b2, b3, b4])"
   ]
  },
  {
   "cell_type": "markdown",
   "metadata": {
    "id": "GHfL0zBYEX39"
   },
   "source": [
    "In order to start the learning procedure we have to initialize the matrix $\\mathbf{M}$ (For example, random values uniformly generated in $[-0.5, 0.5]$ interval):"
   ]
  },
  {
   "cell_type": "code",
   "execution_count": 734,
   "metadata": {
    "collapsed": true,
    "id": "6qdJxz2REX39",
    "ExecuteTime": {
     "end_time": "2023-10-19T21:53:34.784398Z",
     "start_time": "2023-10-19T21:53:34.773869Z"
    }
   },
   "outputs": [],
   "source": [
    "M_initial = np.random.rand(4, 4)-0.5"
   ]
  },
  {
   "cell_type": "markdown",
   "metadata": {
    "id": "rPWBQfrsEX39"
   },
   "source": [
    "For the learning part use the function *trainlms*, which is the implementation of the Widrow-Hoff LMS learning algorithm. The function can be used as follows:"
   ]
  },
  {
   "cell_type": "code",
   "execution_count": 735,
   "metadata": {
    "collapsed": true,
    "id": "Cuwhmk9OEX39",
    "ExecuteTime": {
     "end_time": "2023-10-19T21:53:36.532595Z",
     "start_time": "2023-10-19T21:53:36.519634Z"
    }
   },
   "outputs": [],
   "source": [
    "def trainlms(A, B, M, ni, max_num_iter, min_err=0.02):\n",
    "    d=B\n",
    "    x=A\n",
    "    w=M\n",
    "\n",
    "    n=0\n",
    "    err=[]\n",
    "    while (n<max_num_iter):\n",
    "        n+=1\n",
    "        e=d-w@x\n",
    "        w+=ni*np.dot(e, x.T)\n",
    "        err.append(np.sum(np.sum(np.multiply(e, e))))\n",
    "        if (err[-1]<min_err):\n",
    "            break\n",
    "    return w, err"
   ]
  },
  {
   "cell_type": "markdown",
   "metadata": {
    "id": "IGnweNptEX3-"
   },
   "source": [
    "where *max_num_iter* is the number of iterations and *ni* is the learning rate. Find the *max_num_iter* variable experimentally. For *ni* you can use:"
   ]
  },
  {
   "cell_type": "code",
   "execution_count": 736,
   "metadata": {
    "collapsed": true,
    "id": "Fp6nk_EAEX3-",
    "ExecuteTime": {
     "end_time": "2023-10-19T21:53:37.905403Z",
     "start_time": "2023-10-19T21:53:37.903232Z"
    }
   },
   "outputs": [],
   "source": [
    "ni=0.9999/np.linalg.eig(A @ A.T)[0].max()"
   ]
  },
  {
   "cell_type": "markdown",
   "metadata": {
    "id": "oEySzwsFEX3-"
   },
   "source": [
    "The function trainlms performs the learning until SSE drops below $0.02$ or maximum number of iterations is performed. After the learning phase, look at the responses of the correlation matrix $\\mathbf{M}$:"
   ]
  },
  {
   "cell_type": "code",
   "execution_count": 737,
   "metadata": {
    "collapsed": true,
    "id": "hgOIBEsQEX3-",
    "ExecuteTime": {
     "end_time": "2023-10-19T21:53:39.645183Z",
     "start_time": "2023-10-19T21:53:39.406667Z"
    }
   },
   "outputs": [],
   "source": [
    "M, e = trainlms(A, B, M_initial.copy(), ni, 100000)"
   ]
  },
  {
   "cell_type": "markdown",
   "metadata": {
    "id": "uVZtKtu1EX3_"
   },
   "source": [
    "If we type"
   ]
  },
  {
   "cell_type": "code",
   "execution_count": 738,
   "metadata": {
    "id": "5pFD2wgIEX3_",
    "ExecuteTime": {
     "end_time": "2023-10-19T21:53:41.196821Z",
     "start_time": "2023-10-19T21:53:41.193933Z"
    }
   },
   "outputs": [
    {
     "data": {
      "text/plain": "array([[ True,  True,  True,  True],\n       [ True,  True,  True,  True],\n       [ True,  True,  True,  True],\n       [ True,  True,  True,  True]])"
     },
     "execution_count": 738,
     "metadata": {},
     "output_type": "execute_result"
    }
   ],
   "source": [
    "np.round(M@A) == B"
   ]
  },
  {
   "cell_type": "markdown",
   "metadata": {
    "id": "BkysqPINEX4A"
   },
   "source": [
    "we will see, which characters were properly reconstructed: the positions with correct reconstructions will have value *True* and  other positions will have value *False*. By calling the *trainlms* multiple times we can extend the learning process and maybe increase the number of memorized characters but the proper way to extend the learning process is to increase the *max_num_iter* variable. We can draw a graph, which plots the error with number of iterations (in logaritmic scale) using the following commands:"
   ]
  },
  {
   "cell_type": "code",
   "execution_count": 739,
   "metadata": {
    "id": "j94JRlAcEX4B",
    "ExecuteTime": {
     "end_time": "2023-10-19T21:53:42.759182Z",
     "start_time": "2023-10-19T21:53:42.564652Z"
    }
   },
   "outputs": [
    {
     "data": {
      "text/plain": "<Figure size 640x480 with 1 Axes>",
      "image/png": "[encoded data removed]"
     },
     "metadata": {},
     "output_type": "display_data"
    }
   ],
   "source": [
    "plt.plot(e)\n",
    "plt.yscale(\"log\")\n",
    "plt.xscale(\"log\")\n",
    "plt.xlabel(\"Number of iterations\")\n",
    "plt.ylabel(\"Error\")\n",
    "plt.show()"
   ]
  },
  {
   "cell_type": "markdown",
   "metadata": {
    "id": "267R46AvEX4B"
   },
   "source": [
    "**Tasks**\n",
    "\n",
    "1. Plot a graph showing number of memorized characters tied to number of used iterations. (Caution: When building the graph, start the simulation with the same starting matrix.)"
   ]
  },
  {
   "cell_type": "code",
   "execution_count": 747,
   "metadata": {
    "id": "Xgh5vXQJEX4B",
    "ExecuteTime": {
     "end_time": "2023-10-19T21:59:21.409521Z",
     "start_time": "2023-10-19T21:59:02.789809Z"
    }
   },
   "outputs": [
    {
     "data": {
      "text/plain": "<Figure size 640x480 with 1 Axes>",
      "image/png": "[encoded data removed]"
     },
     "metadata": {},
     "output_type": "display_data"
    }
   ],
   "source": [
    "memorized_count = []\n",
    "iterations = range(1, 100000, 1000)\n",
    "\n",
    "# too slow to go one by one...\n",
    "for i in iterations:\n",
    "    new_M, _ = trainlms(A, B, M_initial.copy(), ni, i)\n",
    "    memorized_count.append(np.sum(np.round(new_M@A)==B))\n",
    "\n",
    "plt.plot(iterations, memorized_count)\n",
    "plt.xlabel(\"Number of iterations\")\n",
    "plt.ylabel(\"Number of correct letters\")\n",
    "plt.show()"
   ]
  },
  {
   "cell_type": "markdown",
   "metadata": {
    "id": "g7Jv3Sz1EX4B"
   },
   "source": [
    "## 2.2.2 Effect of larger number of associations\n",
    "\n",
    "This experiment demonstrates the capacity of the associative memory. What is the capacity of a $4\\times 4$ correlation matrix based associative memory?"
   ]
  },
  {
   "cell_type": "markdown",
   "source": [
    "**Tasks**\n",
    "1. For additional pair '*auto*'-'*mrak*' create vectors $a_5$ and $b_5$ as explained in the previous part of the exercise. Create new matrices A and B with dimensions $4$ (rows) $\\times$ $5$ (columns) in the same way as previously explained. Initialize the matrix $\\mathbf{M}$ with random starting values."
   ],
   "metadata": {
    "id": "4lEAK8NcQ7J6"
   }
  },
  {
   "cell_type": "code",
   "execution_count": 793,
   "metadata": {
    "collapsed": true,
    "id": "RIbxzco7EX4B",
    "ExecuteTime": {
     "end_time": "2023-10-19T22:09:59.154038Z",
     "start_time": "2023-10-19T22:09:59.116241Z"
    }
   },
   "outputs": [
    {
     "name": "stdout",
     "output_type": "stream",
     "text": [
      "[[-0.06215276 -0.22059981 -0.1778306   0.12436315]\n",
      " [ 0.1639622  -0.20248123  0.34857862  0.41822962]\n",
      " [ 0.41753306  0.00131546 -0.36921503 -0.35693756]\n",
      " [-0.04584815 -0.43181456 -0.31210492 -0.19785476]]\n"
     ]
    }
   ],
   "source": [
    "a5 = real(\"auto\")\n",
    "b5 = real(\"mrak\")\n",
    "\n",
    "A = np.hstack([a1, a2, a3, a4, a5])\n",
    "B = np.hstack([b1, b2, b3, b4, b5])\n",
    "\n",
    "M = np.random.rand(4, 4) - 0.5\n",
    "print(M)"
   ]
  },
  {
   "cell_type": "markdown",
   "metadata": {
    "id": "7BS_DGEDEX4C"
   },
   "source": [
    "Use the *trainlms* function in the following way:"
   ]
  },
  {
   "cell_type": "code",
   "execution_count": 794,
   "metadata": {
    "id": "RzWRfmK5EX4C",
    "ExecuteTime": {
     "end_time": "2023-10-19T22:10:00.925092Z",
     "start_time": "2023-10-19T22:10:00.178350Z"
    }
   },
   "outputs": [
    {
     "name": "stdout",
     "output_type": "stream",
     "text": [
      "Memorized characters: 2\n",
      "SSE error: 219.79844711685456\n"
     ]
    }
   ],
   "source": [
    "ni = 0.9999 / max(np.linalg.eig(np.dot(A, A.T))[0])\n",
    "\n",
    "M, e = trainlms(A, B, M, ni, 100000)\n",
    "\n",
    "print(f\"Memorized characters: {np.sum(np.round(np.dot(M, A)) == B)}\")\n",
    "print(f\"SSE error: {e[-1]}\")"
   ]
  },
  {
   "cell_type": "markdown",
   "metadata": {
    "id": "71De2vy_EX4C"
   },
   "source": [
    "**Tasks**\n",
    "\n",
    "1. How many iterations did you use?\n",
    "2. How many characters were memorized correctly?\n",
    "3. What is the SSE error?\n",
    "4. What happens if we call the function from the beginning?\n",
    "5. How many characters are correctly memorized now and how large is the mistake? Is there any difference and why?\n",
    "6. Is it possible to train this network in order to memorize all five associations?\n",
    "7. Why? (Explain the previous answer)"
   ]
  },
  {
   "cell_type": "markdown",
   "source": [
    "How many iterations did you use?\n",
    "    - 100k\n",
    "How many characters were memorized correctly?\n",
    "    - Two\n",
    "What is the SSE error?\n",
    "    - Around 219, depending on the starting matrix M, but it doesn't fall below that value\n",
    "What happens if we call the function from the beginning?\n",
    "    - We call the trainlms function again with the new \"trained\" matrix M\n",
    "How many characters are correctly memorized now and how large is the mistake? Is there any difference and why?\n",
    "    - There are still only two memorized characters. By adding the pair 'auto' 'mrak' we lost some data which we can't get back no matter the amount of training.\n",
    "Is it possible to train this network in order to memorize all five associations?\n",
    "Why? (Explain the previous answer)\n",
    "    - No, because we added a pair and extended the original 4x4 matrix we lost some of the data that was there beforehand. We can now only access some of the previously stored pairs. This means we can't improve the accuracy of the network beyond a certain point."
   ],
   "metadata": {
    "collapsed": false
   }
  }
 ],
 "metadata": {
  "kernelspec": {
   "display_name": "Python 3",
   "language": "python",
   "name": "python3"
  },
  "language_info": {
   "codemirror_mode": {
    "name": "ipython",
    "version": 3
   },
   "file_extension": ".py",
   "mimetype": "text/x-python",
   "name": "python",
   "nbconvert_exporter": "python",
   "pygments_lexer": "ipython3",
   "version": "3.6.2"
  },
  "colab": {
   "provenance": []
  }
 },
 "nbformat": 4,
 "nbformat_minor": 0
}
