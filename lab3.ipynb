{
 "cells": [
  {
   "cell_type": "markdown",
   "id": "ef67b941-48cd-48d2-8d5c-cf13adad0e06",
   "metadata": {
    "slideshow": {
     "slide_type": ""
    },
    "tags": []
   },
   "source": [
    "# Laboratory exercise 3\n",
    "\n",
    "Required packages:\n",
    "* numpy\n",
    "* torch\n",
    "* torchvision\n",
    "* scikit-learn\n",
    "\n",
    "**Tasks that should be solved are given in the following sections:**\n",
    "* Section 5.3 The XOR problem\n",
    "* Section 5.4 The MNIST dataset\n",
    "* Section 6.1 Kernels\n",
    "* Section 6.2 Wine dataset\n",
    "* Section 6.3 Speed\n",
    "\n",
    "# Exercise 5: Multilayer perceptron\n",
    "\n",
    "The focus of this exercise will be on multilayer perceptron and to do that in a simpler way, an introduction to PyTorch is given first.\n",
    "\n",
    "## 5.1 Introduction to PyTorch\n",
    "\n",
    "We'll introduce Pytorch by quoting the [official documentation: ](https://pytorch.org/docs/stable/index.html)\n",
    "\n",
    "> \"PyTorch is an optimized tensor library for deep learning using GPUs and CPUs.\"\n",
    "\n",
    "PyTorch is [open source](https://github.com/pytorch/pytorch/tree/main#license) and [one of the most popular](https://www.kaggle.com/code/paultimothymooney/kaggle-survey-2022-all-results?scriptVersionId=107352619&cellId=45) machine learning libraries. It is simple to use and is well integrated into Python. We highly recommend that you read the [official quickstart tutorial](https://pytorch.org/tutorials/beginner/basics/quickstart_tutorial.html) to further familiarize yourself with PyTorch. For any additional clarification, we suggest that you examine the [official documentation](https://pytorch.org/docs/stable/index.html). This exercise is heavily based on the mentioned documents.\n",
    "\n",
    "We'll start by importing PyTorch and [NumPy](https://numpy.org/):"
   ]
  },
  {
   "cell_type": "code",
   "execution_count": 5,
   "id": "156000e0-2c28-4191-85dd-a7bcd0c06980",
   "metadata": {
    "slideshow": {
     "slide_type": ""
    },
    "tags": [],
    "ExecuteTime": {
     "end_time": "2023-12-16T12:36:45.498749Z",
     "start_time": "2023-12-16T12:36:45.496270Z"
    }
   },
   "outputs": [],
   "source": [
    "import itertools\n",
    "\n",
    "import torch\n",
    "import numpy as np"
   ]
  },
  {
   "cell_type": "markdown",
   "id": "578ce6b4-0759-4ab9-b078-3bfb00ee555d",
   "metadata": {
    "slideshow": {
     "slide_type": ""
    },
    "tags": []
   },
   "source": [
    "### 5.1.1 PyTorch basics\n",
    "The fundamental elements of PyTorch are tensors. They are used to encode the input data, output data and the parameters of the model. Tensors are n-dimensional arrays of a given type. They are quite similar to NumPy ndarrays and we can easily integrate Numpy ndarrays into PyTorch. We can define tensors in multiple ways - we'll start by defining tensors directly from data:"
   ]
  },
  {
   "cell_type": "code",
   "execution_count": 6,
   "id": "9772a52b-eddf-40bd-a725-b5f040c5452b",
   "metadata": {
    "slideshow": {
     "slide_type": ""
    },
    "tags": [],
    "ExecuteTime": {
     "end_time": "2023-12-16T12:36:48.392987Z",
     "start_time": "2023-12-16T12:36:48.389758Z"
    }
   },
   "outputs": [],
   "source": [
    "data = [[1, 2],[3, 4]]\n",
    "x_data = torch.tensor(data)"
   ]
  },
  {
   "cell_type": "markdown",
   "id": "a68c2e39-a321-4f84-a8e7-504260fa2651",
   "metadata": {
    "slideshow": {
     "slide_type": ""
    },
    "tags": []
   },
   "source": [
    "We can list the tensors attributes with the following commands:"
   ]
  },
  {
   "cell_type": "code",
   "execution_count": 7,
   "id": "281ee2d8-bac1-4c22-8f53-51ae1158649c",
   "metadata": {
    "slideshow": {
     "slide_type": ""
    },
    "tags": [],
    "ExecuteTime": {
     "end_time": "2023-12-16T12:36:50.512541Z",
     "start_time": "2023-12-16T12:36:50.509407Z"
    }
   },
   "outputs": [
    {
     "name": "stdout",
     "output_type": "stream",
     "text": [
      "Tensor shape    : torch.Size([2, 2])\n",
      "Tensor datatype : torch.int64\n",
      "Tensor device   : cpu\n"
     ]
    }
   ],
   "source": [
    "print(f\"Tensor shape    : {x_data.shape}\")\n",
    "print(f\"Tensor datatype : {x_data.dtype}\")\n",
    "print(f\"Tensor device   : {x_data.device}\")"
   ]
  },
  {
   "cell_type": "markdown",
   "id": "0197365f-130d-4fda-a5bd-19102df1900d",
   "metadata": {
    "slideshow": {
     "slide_type": ""
    },
    "tags": []
   },
   "source": [
    "We can also create tensors using functions:"
   ]
  },
  {
   "cell_type": "code",
   "execution_count": 8,
   "id": "af81a059-0a9b-4fdd-8511-f164b38ef8c3",
   "metadata": {
    "slideshow": {
     "slide_type": ""
    },
    "tags": [],
    "ExecuteTime": {
     "end_time": "2023-12-16T12:37:22.166752Z",
     "start_time": "2023-12-16T12:37:22.163870Z"
    }
   },
   "outputs": [],
   "source": [
    "shape = (2,3,)\n",
    "ones_tensor = torch.ones(shape)\n",
    "zeros_tensor = torch.zeros(shape)\n",
    "rand_tensor = torch.rand(shape) # samples from the uniform distribution on [0, 1)\n",
    "norm_tensor = torch.normal(0.0, 1.0, shape) # sample from the normal distribution with μ = 0, σ = 1"
   ]
  },
  {
   "cell_type": "markdown",
   "id": "651e35e1-8815-4381-b48d-b27901e51cd8",
   "metadata": {
    "slideshow": {
     "slide_type": ""
    },
    "tags": []
   },
   "source": [
    "We can also define tensors from a NumPy array:"
   ]
  },
  {
   "cell_type": "code",
   "execution_count": 9,
   "id": "eead4b08-076f-42bf-ba1b-c8f81c0da5e1",
   "metadata": {
    "slideshow": {
     "slide_type": ""
    },
    "tags": [],
    "ExecuteTime": {
     "end_time": "2023-12-16T12:37:34.004121Z",
     "start_time": "2023-12-16T12:37:33.993070Z"
    }
   },
   "outputs": [],
   "source": [
    "np_array = np.array(data)\n",
    "x_np = torch.from_numpy(np_array)"
   ]
  },
  {
   "cell_type": "markdown",
   "id": "67da95af-22a9-4c8e-88a2-fe63218bd881",
   "metadata": {
    "slideshow": {
     "slide_type": ""
    },
    "tags": []
   },
   "source": [
    "And we can also define tensors using other tensors. The newly defined tensor will have the same properties as the argument tensor, unless we tell it to override some properties."
   ]
  },
  {
   "cell_type": "code",
   "execution_count": 10,
   "id": "e9d15088-9bc2-4d3f-94bb-6e2b77c7750c",
   "metadata": {
    "slideshow": {
     "slide_type": ""
    },
    "tags": [],
    "ExecuteTime": {
     "end_time": "2023-12-16T12:37:37.071502Z",
     "start_time": "2023-12-16T12:37:37.064195Z"
    }
   },
   "outputs": [
    {
     "name": "stdout",
     "output_type": "stream",
     "text": [
      "--- original tensor ----------------------------- new tensor ------------------\n",
      "x_data shape    : torch.Size([2, 2]) \t | x_ones shape    : torch.Size([2, 2])\n",
      "x_data datatype : torch.int64 \t\t | x_ones datatype : torch.int64\n",
      "x_data device   : cpu \t\t\t | x_ones device   : cpu\n",
      "-------------------------------------------------------------------------------\n",
      "x_data shape    : torch.Size([2, 2]) \t | x_rand shape    : torch.Size([2, 2])\n",
      "x_data datatype : torch.int64 \t\t | x_rand datatype : torch.float32\n",
      "x_data device   : cpu \t\t\t | x_rand device   : cpu\n"
     ]
    }
   ],
   "source": [
    "print('--- original tensor ----------------------------- new tensor ------------------')\n",
    "x_ones = torch.ones_like(x_data) # keeping the same properties\n",
    "print(f\"x_data shape    : {x_data.shape} \\t | x_ones shape    : {x_ones.shape}\")\n",
    "print(f\"x_data datatype : {x_data.dtype} \\t\\t | x_ones datatype : {x_ones.dtype}\")\n",
    "print(f\"x_data device   : {x_data.device} \\t\\t\\t | x_ones device   : {x_ones.device}\")\n",
    "\n",
    "print('-------------------------------------------------------------------------------')\n",
    "\n",
    "x_rand = torch.rand_like(x_data, dtype=torch.float) # overriding the datatype property\n",
    "print(f\"x_data shape    : {x_data.shape} \\t | x_rand shape    : {x_rand.shape}\")\n",
    "print(f\"x_data datatype : {x_data.dtype} \\t\\t | x_rand datatype : {x_rand.dtype}\")\n",
    "print(f\"x_data device   : {x_data.device} \\t\\t\\t | x_rand device   : {x_rand.device}\")"
   ]
  },
  {
   "cell_type": "markdown",
   "id": "71ae1124-49f6-4721-a513-055748c25d8b",
   "metadata": {},
   "source": [
    "### 5.1.2 Hardware acceleration\n",
    "You might wonder what does the `device` property describe? PyTorch follows a [simple and explicit design philosophy](https://pytorch.org/docs/stable/community/design.html#principle-2-simple-over-easy) and this is reflected in the way we allocate our tensors to actual hardware. By default, all tensors are allocated on the CPU and we have to manually move them to the GPU. [The official quickstart tutorial](https://pytorch.org/tutorials/beginner/basics/quickstart_tutorial.html#creating-models) shows us a nice and effective method of doing this:"
   ]
  },
  {
   "cell_type": "code",
   "execution_count": 44,
   "id": "76271498-9e24-459f-939a-73733ad76e04",
   "metadata": {
    "ExecuteTime": {
     "end_time": "2023-12-16T12:48:05.605532Z",
     "start_time": "2023-12-16T12:48:05.598658Z"
    }
   },
   "outputs": [
    {
     "name": "stdout",
     "output_type": "stream",
     "text": [
      "x_data shape    : torch.Size([2, 2])\n",
      "x_data datatype : torch.int64\n",
      "x_data device   : mps:0\n"
     ]
    }
   ],
   "source": [
    "# check the device availability\n",
    "device = (\n",
    "    \"cuda\"\n",
    "    if torch.cuda.is_available()\n",
    "    else \"mps\"\n",
    "    if torch.backends.mps.is_available()\n",
    "    else \"cpu\"\n",
    ")\n",
    "\n",
    "# move the tensor to the device\n",
    "x_data = x_data.to(device)\n",
    "print(f\"x_data shape    : {x_data.shape}\")\n",
    "print(f\"x_data datatype : {x_data.dtype}\")\n",
    "print(f\"x_data device   : {x_data.device}\")"
   ]
  },
  {
   "cell_type": "markdown",
   "id": "a2ed2aad-fbf9-47c2-93df-76d250e39bf1",
   "metadata": {},
   "source": [
    "Obviously you need to have the appropriate hardware and environment configuration in order to allow PyTorch to utilize your hardware. Depending on your environment, you will need to:\n",
    "* Local environment → install the appropriate device drivers\n",
    "  * depends on your operating system and the device you're using\n",
    "  * you will also need to install the PyTorch version that supports your hardware\n",
    "* Google Collab → enable hardware acceleration\n",
    "  * select `Runtime > Change runtime type`, then choose the appropriate hardware (ex. `T4 GPU`)"
   ]
  },
  {
   "cell_type": "markdown",
   "id": "d38a9f37-c1ee-4734-8ea7-b4bac2824100",
   "metadata": {},
   "source": [
    "### 5.1.3 Tensor operations\n",
    "PyTorch provides [a large number of tensor operations](https://pytorch.org/docs/stable/torch.html) that can be hardware accelerated. If you're familiar with NumPy, using these operations will feel quite natural. First let's try some arithmetic operations:"
   ]
  },
  {
   "cell_type": "code",
   "execution_count": 12,
   "id": "c3607d2e-22b6-47d8-ba70-e8139d6e13a0",
   "metadata": {
    "ExecuteTime": {
     "end_time": "2023-12-16T12:40:06.675585Z",
     "start_time": "2023-12-16T12:40:06.667587Z"
    }
   },
   "outputs": [
    {
     "name": "stdout",
     "output_type": "stream",
     "text": [
      "starting tensor...\n",
      "tensor([[0.2587, 0.5993, 0.5366],\n",
      "        [0.7088, 0.0769, 0.4681]])\n",
      "added tensor...\n",
      "tensor([[0.5175, 1.1985, 1.0732],\n",
      "        [1.4176, 0.1537, 0.9361]])\n",
      "multiplied tensor...\n",
      "tensor([[2.5874, 5.9926, 5.3661],\n",
      "        [7.0881, 0.7687, 4.6807]])\n",
      "transposed tensor...\n",
      "tensor([[0.2587, 0.7088],\n",
      "        [0.5993, 0.0769],\n",
      "        [0.5366, 0.4681]])\n",
      "element-wise product tensor...\n",
      "tensor([[0.0669, 0.3591, 0.2879],\n",
      "        [0.5024, 0.0059, 0.2191]])\n",
      "matrix product tensor...\n",
      "tensor([[0.7140, 0.4806],\n",
      "        [0.4806, 0.7274]])\n"
     ]
    }
   ],
   "source": [
    "tensor = torch.rand_like(rand_tensor)\n",
    "\n",
    "add_tensor = tensor + tensor            # equivalent to torch.add(tensor, tensor)\n",
    "mul_tensor = tensor * 10                # equivalent to torch.mul(tensor, 10)\n",
    "\n",
    "trans_tensor = tensor.T                 # equivalent to torch.t * tensor\n",
    "element_wise_product = tensor * tensor  # equivalent to torch.mul(tensor, tensor)\n",
    "matrix_product = tensor @ tensor.T      # equivalent to torch.matmul(tensor, tensor.T)\n",
    "\n",
    "print(\"starting tensor...\", tensor, sep='\\n')\n",
    "print(\"added tensor...\", add_tensor, sep='\\n')\n",
    "print(\"multiplied tensor...\", mul_tensor, sep='\\n')\n",
    "print(\"transposed tensor...\", trans_tensor, sep='\\n')\n",
    "print(\"element-wise product tensor...\", element_wise_product, sep='\\n')\n",
    "print(\"matrix product tensor...\", matrix_product, sep='\\n')"
   ]
  },
  {
   "cell_type": "markdown",
   "id": "0ed8d0cd-f534-40b0-89e3-97d77c505946",
   "metadata": {},
   "source": [
    "PyTorch tensors can be indexed and sliced in a [similar way to NumPy ndarrays](https://numpy.org/devdocs/user/quickstart.html#indexing-slicing-and-iterating):"
   ]
  },
  {
   "cell_type": "code",
   "execution_count": 13,
   "id": "93475f33-f290-4f48-9936-62f7ad59bca0",
   "metadata": {
    "ExecuteTime": {
     "end_time": "2023-12-16T12:40:35.391675Z",
     "start_time": "2023-12-16T12:40:35.384693Z"
    }
   },
   "outputs": [
    {
     "name": "stdout",
     "output_type": "stream",
     "text": [
      "starting tensor...\n",
      "tensor([[0.7577, 0.4680, 0.3266, 0.0974, 0.3413],\n",
      "        [0.7031, 0.4287, 0.2879, 0.5963, 0.4039],\n",
      "        [0.5267, 0.3017, 0.2248, 0.7379, 0.8998],\n",
      "        [0.4605, 0.1894, 0.1082, 0.0336, 0.0104],\n",
      "        [0.5973, 0.8464, 0.9732, 0.5514, 0.4572]])\n",
      "second_row ...\n",
      "tensor([0.7031, 0.4287, 0.2879, 0.5963, 0.4039])\n",
      "third column ...\n",
      "tensor([0.3266, 0.2879, 0.2248, 0.1082, 0.9732])\n",
      "second to last column...\n",
      "tensor([0.0974, 0.5963, 0.7379, 0.0336, 0.5514])\n",
      "assignment tensor...\n",
      "tensor([[ 1.,  1.,  1.,  1.,  1.],\n",
      "        [ 1., 10., 10.,  1.,  1.],\n",
      "        [ 1., 10., 10.,  1.,  1.],\n",
      "        [ 1.,  1.,  1.,  1.,  1.],\n",
      "        [ 1.,  1.,  1.,  1.,  1.]])\n"
     ]
    }
   ],
   "source": [
    "tensor = torch.rand(5, 5)\n",
    "second_row = tensor[1]\n",
    "third_column = tensor[:, 2]\n",
    "second_to_last_column = tensor[..., -2]\n",
    "assign_tensor = torch.ones_like(tensor)\n",
    "assign_tensor[1:3, 1:3] = 10 # multiple element assignment\n",
    "\n",
    "print(\"starting tensor...\", tensor, sep='\\n')\n",
    "print(\"second_row ...\", second_row, sep='\\n')\n",
    "print(\"third column ...\", third_column, sep='\\n')\n",
    "print(\"second to last column...\", second_to_last_column, sep='\\n')\n",
    "print(\"assignment tensor...\", assign_tensor, sep='\\n')"
   ]
  },
  {
   "cell_type": "markdown",
   "id": "2bbe981b-8fb4-4dad-8a5d-26090c236df5",
   "metadata": {},
   "source": [
    "Operations with the `_` suffix denote the in-place operations. They will store the resulting tensor into the argument tensor."
   ]
  },
  {
   "cell_type": "code",
   "execution_count": 14,
   "id": "f4e4d1a7-940a-4d1c-b89f-893ec58c0a50",
   "metadata": {
    "ExecuteTime": {
     "end_time": "2023-12-16T12:41:15.533539Z",
     "start_time": "2023-12-16T12:41:15.526020Z"
    }
   },
   "outputs": [
    {
     "data": {
      "text/plain": "tensor([[ 10.,  10.,  10.,  10.,  10.],\n        [ 10., 100., 100.,  10.,  10.],\n        [ 10., 100., 100.,  10.,  10.],\n        [ 10.,  10.,  10.,  10.,  10.],\n        [ 10.,  10.,  10.,  10.,  10.]])"
     },
     "execution_count": 14,
     "metadata": {},
     "output_type": "execute_result"
    }
   ],
   "source": [
    "assign_tensor.mul_(10)"
   ]
  },
  {
   "cell_type": "markdown",
   "id": "2960bc31-691f-4bd1-b325-7e0ae7579913",
   "metadata": {},
   "source": [
    "### 5.1.4 Datasets and dataloaders\n",
    "Even though we can store our data directly into tensors and work directly with them, a preferred method for working with data is to use the `Dataset` and `Dataloader` objects. This will also allow us to decouple our data loading code from the model training code. In order to load our data, we have to create a new class that extends the `Dataset` class. We also need to implement the following methods:\n",
    "\n",
    "* `__init__` - initializes the `Dataset` object\n",
    "* `__len__` - returns the number of samples in our object\n",
    "* `__getitem__` - returns the sample for a given index *(remember to return the (input, output) pair)*\n",
    "\n",
    "Let's generate a synthetic dataset that we'll later use for our simple linear regression model. Our dataset will have 100 samples. The input will be a 3-dimensional tensor, and the output will be a 1-dimensional tensor. The inputs will be normally distributed ($\\mu = 0$, $\\sigma = 1$) and our model will be defined with the following expression : $y=\\mathbf{w}^{T}\\mathbf{x}+\\mathbf{b}$.\n",
    "\n",
    "We'll start by defining our custom dataset class:"
   ]
  },
  {
   "cell_type": "code",
   "execution_count": 48,
   "id": "5748125b-7011-4f42-adc3-9abdf062f55d",
   "metadata": {
    "ExecuteTime": {
     "end_time": "2023-12-16T12:49:33.002779Z",
     "start_time": "2023-12-16T12:49:32.997511Z"
    }
   },
   "outputs": [],
   "source": [
    "from torch.utils.data import Dataset\n",
    "\n",
    "class CustomDatasetAlpha(Dataset):                                    # extending the Dataset class ...\n",
    "    def __init__(self, number_of_samples, weights, bias):             # our dataset is defined by:\n",
    "        self.number_of_samples = number_of_samples                    #  - the number of samples\n",
    "        self.weights = weights                                        #  - the weights vector\n",
    "        self.bias = bias                                              #  - the bias vector\n",
    "        \n",
    "        self.x_input = torch.normal(0.0, 1.0, (number_of_samples, 3)).to(device) # sampling our inputs\n",
    "\n",
    "    def __len__(self):\n",
    "        return self.number_of_samples\n",
    "\n",
    "    def __getitem__(self, index):\n",
    "        # we're assuming that our input and weights are\n",
    "        # represented as row vectors. Therefore, we'll \n",
    "        # calculate the dot product as such:\n",
    "        input = self.x_input[index]\n",
    "        output = self.x_input[index] @ self.weights.T + self.bias     # the model expression\n",
    "        return input, output"
   ]
  },
  {
   "cell_type": "markdown",
   "id": "07e973ac-e949-464d-bcf9-5422f87b7b03",
   "metadata": {},
   "source": [
    "After we've defined our dataset, we can instantiate it with the following:"
   ]
  },
  {
   "cell_type": "code",
   "execution_count": 49,
   "id": "459085ab-8a8f-4f05-bc37-8bfa38c687d0",
   "metadata": {
    "ExecuteTime": {
     "end_time": "2023-12-16T12:49:43.532528Z",
     "start_time": "2023-12-16T12:49:43.528106Z"
    }
   },
   "outputs": [],
   "source": [
    "weights = torch.tensor([9.0, 8.0, 7.0]).to(device)\n",
    "bias = torch.tensor([5.0]).to(device)\n",
    "dataset = CustomDatasetAlpha(100, weights, bias)"
   ]
  },
  {
   "cell_type": "markdown",
   "id": "7a47a39e-831e-4880-b366-3c7b104f0c38",
   "metadata": {},
   "source": [
    "We can access our data by simply indexing our dataset:"
   ]
  },
  {
   "cell_type": "code",
   "execution_count": 50,
   "id": "60f73f0d-9865-4e1c-ae1a-da8747f11c76",
   "metadata": {
    "ExecuteTime": {
     "end_time": "2023-12-16T12:49:47.800762Z",
     "start_time": "2023-12-16T12:49:47.269290Z"
    }
   },
   "outputs": [
    {
     "name": "stdout",
     "output_type": "stream",
     "text": [
      "6th samples of the dataset\n",
      "(tensor([ 1.5740,  1.0310, -0.7316], device='mps:0'), tensor([22.2921], device='mps:0'))\n",
      "last 5 samples of the dataset\n",
      "(tensor([[-0.4225, -0.6094, -1.7734],\n",
      "        [ 2.2272,  1.4927, -0.0934],\n",
      "        [-0.0729,  0.1160, -1.6116],\n",
      "        [ 0.8325, -0.2196, -0.4483],\n",
      "        [-1.1206,  0.3740,  0.2510]], device='mps:0'), tensor([-16.0921,  36.3332,  -6.0092,   7.5979,  -0.3368], device='mps:0'))\n"
     ]
    }
   ],
   "source": [
    "print(\"6th samples of the dataset\")\n",
    "print(dataset[5])\n",
    "\n",
    "print(\"last 5 samples of the dataset\")\n",
    "print(dataset[-6:-1])"
   ]
  },
  {
   "cell_type": "markdown",
   "id": "b62eb917-46c2-4167-9b66-1ab65de8f2ed",
   "metadata": {},
   "source": [
    "With our `Dataset` object we can access our samples directly. We could implement additional methods for obtaining multiple samples, data shuffling,... but instead we can use the useful `DataLoader` class that will abstract this complexity for us. This can be done with the following:"
   ]
  },
  {
   "cell_type": "code",
   "execution_count": 51,
   "id": "77078ea1-3d05-4f1c-b991-16270bb71127",
   "metadata": {
    "ExecuteTime": {
     "end_time": "2023-12-16T12:49:51.430942Z",
     "start_time": "2023-12-16T12:49:51.322985Z"
    }
   },
   "outputs": [
    {
     "name": "stdout",
     "output_type": "stream",
     "text": [
      "current batch inputs :\n",
      "tensor([[-1.3120, -0.3817,  0.2127],\n",
      "        [-0.7671,  1.0953, -0.7265],\n",
      "        [-0.8411,  0.5757, -0.1006],\n",
      "        [ 1.1885,  0.7776, -0.0546],\n",
      "        [-1.1755, -0.3533,  1.1445],\n",
      "        [ 1.2218,  0.9835, -1.3704],\n",
      "        [-0.1295,  1.4051,  1.3567],\n",
      "        [ 0.1522,  0.0324, -0.6340]], device='mps:0')\n",
      "current batch outputs :\n",
      "tensor([[-8.3729],\n",
      "        [ 1.7730],\n",
      "        [ 1.3312],\n",
      "        [21.5353],\n",
      "        [-0.3947],\n",
      "        [14.2707],\n",
      "        [24.5726],\n",
      "        [ 2.1904]], device='mps:0')\n"
     ]
    }
   ],
   "source": [
    "from torch.utils.data import DataLoader\n",
    "\n",
    "dataloader = DataLoader(dataset, batch_size=8, shuffle=True)\n",
    "\n",
    "# iterating through the DataLoader\n",
    "for batch_x, batch_y in dataloader:\n",
    "    print(\"current batch inputs :\", batch_x, sep='\\n')\n",
    "    print(\"current batch outputs :\", batch_y, sep='\\n')\n",
    "    \n",
    "    # we'll break after the first iteration in order to\n",
    "    # minimize the printed output\n",
    "    break"
   ]
  },
  {
   "cell_type": "markdown",
   "id": "2b9f8bba-b9df-4fe6-96d7-f2b42d2f3db5",
   "metadata": {},
   "source": [
    "If you re-run the previous cell you should see different samples in our batch, since we've set the `shuffle` flag to be true. Hopefully this demonstrates the usefulness of the `DataLoader` class. Feel free to explore [other flags](https://pytorch.org/docs/stable/data.html#torch.utils.data.DataLoader) and other [data loading utilities](https://pytorch.org/docs/stable/data.html#module-torch.utils.data).\n",
    "\n",
    "When it comes to loading images, PyTorch provides an additional library named `torchvision` that contains a lot helpful functions for working with images. It also contains a lot of popular datasets and model architectures that are commonly used in computer vision. If you're interested in loading your own images, check out the official [Datasets & DataLoaders tutorial](https://pytorch.org/tutorials/beginner/basics/data_tutorial.html#creating-a-custom-dataset-for-your-files). We'll use `torchvision` later on in this exercise in order to load [the MNIST dataset](http://yann.lecun.com/exdb/mnist/), a quite popular image dataset for testing our machine learning models.\n"
   ]
  },
  {
   "cell_type": "markdown",
   "id": "cfa63ba5-522a-4b88-9177-33ad049c09c3",
   "metadata": {},
   "source": [
    "### 5.1.5 Models\n",
    "Now we'll discuss how to create our models using PyTorch. All models in PyTorch extend the `nn.Module` class, similarly how datasets extend the `Dataset` class. During the initialization of the model, we'll define our network's architecture. We'll also define the `forward` method that will calculate the forward pass of our network. Let's start by defining a simple linear regression model:"
   ]
  },
  {
   "cell_type": "code",
   "execution_count": 52,
   "id": "61cbe5a7-ad20-4044-aaaa-dda1067c2e41",
   "metadata": {
    "ExecuteTime": {
     "end_time": "2023-12-16T12:49:53.637001Z",
     "start_time": "2023-12-16T12:49:53.628922Z"
    }
   },
   "outputs": [],
   "source": [
    "from torch import nn\n",
    "\n",
    "class NeuralNetworkAlpha(nn.Module):          # extending the nn.Module...\n",
    "    def __init__(self):                       # we won't need any additional parameters\n",
    "        super().__init__()                    # calling the constructor of the parent class\n",
    "        self.linear_layer = nn.Linear(3, 1)   # linear layer with input size of 3, output size of 1\n",
    "                                              # to model linear regression\n",
    "\n",
    "    def forward(self, x):                     # defining the forward pass\n",
    "        return self.linear_layer(x)"
   ]
  },
  {
   "cell_type": "markdown",
   "id": "1822e26c-8f35-45a4-944e-c91daaea1656",
   "metadata": {},
   "source": [
    "Recall that a single layered neural network with linear activation models linear regression. PyTorch provides [a large ammount of layers](https://pytorch.org/docs/stable/nn.html) and we will give a list of commonly used ones:\n",
    "* [`Linear`](https://pytorch.org/docs/stable/generated/torch.nn.Linear.html#torch.nn.Linear) - defines a layer with linear activation function\n",
    "* [`ReLU`](https://pytorch.org/docs/stable/generated/torch.nn.ReLU.html#torch.nn.ReLU) - defines a layer with ReLu activation function\n",
    "* [`Sigmoid`](https://pytorch.org/docs/stable/generated/torch.nn.Sigmoid.html#torch.nn.Sigmoid) - defines a layer with sigmoid activation function\n",
    "* [`Conv2d`](https://pytorch.org/docs/stable/generated/torch.nn.Conv2d.html#torch.nn.Conv2d) - defines a 2D convolutional layer\n",
    "* [`Sequential`](https://pytorch.org/docs/stable/generated/torch.nn.Sequential.html#torch.nn.Sequential) - defines a sequential container which can take other layers and will apply them sequentially\n",
    "* [`Flatten`](https://pytorch.org/docs/stable/generated/torch.nn.Flatten.html#torch.nn.Flatten) - defines a layer that will flatten a multiple dimensional tensor into a single dimension\n",
    "\n",
    "We'll use some of these layers later on in this exercise. Let's continue by instantiating our network and calculating the output:"
   ]
  },
  {
   "cell_type": "code",
   "execution_count": 60,
   "id": "1b256c9e-8468-4a47-aaf9-7a18a7cd8143",
   "metadata": {
    "ExecuteTime": {
     "end_time": "2023-12-16T12:50:32.609136Z",
     "start_time": "2023-12-16T12:50:32.572464Z"
    }
   },
   "outputs": [
    {
     "name": "stdout",
     "output_type": "stream",
     "text": [
      "structure of our network...\n",
      "NeuralNetworkAlpha(\n",
      "  (linear_layer): Linear(in_features=3, out_features=1, bias=True)\n",
      ")\n",
      "first dataset sample...\n",
      "tensor([-1.3221, -1.2851, -0.1439], device='mps:0')\n",
      "target...\n",
      "tensor([-18.1868], device='mps:0')\n",
      "network's output for the first dataset sample...\n",
      "tensor([0.5635], device='mps:0', grad_fn=<LinearBackward0>)\n"
     ]
    }
   ],
   "source": [
    "# we create our network and move it to previously defined device\n",
    "network = NeuralNetworkAlpha().to(device)\n",
    "print(\"structure of our network...\", network, sep='\\n')\n",
    "\n",
    "print(\"first dataset sample...\")\n",
    "print(dataset[0][0])\n",
    "print(\"target...\")\n",
    "print(dataset[0][1])\n",
    "print(\"network's output for the first dataset sample...\")\n",
    "print(network(dataset[0][0]))"
   ]
  },
  {
   "cell_type": "markdown",
   "id": "f2346f00-a518-49cc-bbd9-d4be922c8247",
   "metadata": {},
   "source": [
    "We can inspect the network's parameters with the following:"
   ]
  },
  {
   "cell_type": "code",
   "execution_count": 61,
   "id": "dad369cf-49f1-4cd9-9c3f-39fb7f2429a6",
   "metadata": {
    "ExecuteTime": {
     "end_time": "2023-12-16T12:50:52.653889Z",
     "start_time": "2023-12-16T12:50:52.628246Z"
    }
   },
   "outputs": [
    {
     "name": "stdout",
     "output_type": "stream",
     "text": [
      "linear_layer.weight Parameter containing:\n",
      "tensor([[ 0.0963, -0.5588, -0.0089]], device='mps:0', requires_grad=True)\n",
      "linear_layer.bias Parameter containing:\n",
      "tensor([-0.0286], device='mps:0', requires_grad=True)\n"
     ]
    }
   ],
   "source": [
    "for name, param in network.named_parameters():\n",
    "    print(name, param)\n",
    "    "
   ]
  },
  {
   "cell_type": "markdown",
   "id": "3db19f30-a687-4ade-8e01-39b5be4e7e42",
   "metadata": {},
   "source": [
    "We can see the values of parameters for each layer *(if you want a small exercise, manually verify that the output of our network was correct)*. Let's proceed with this exercise and see how we can use PyTorch to train our network."
   ]
  },
  {
   "cell_type": "markdown",
   "id": "e07e4b18-bf0e-4ed1-8be1-124be3211d11",
   "metadata": {},
   "source": [
    "### 5.1.6 Parameter optimization\n",
    "In order to optimize our network using back propagation, we'll need to compute the gradients of the loss function with respect towards each parameter. PyTorch allows us to achieve this with automatic differentiation using `torch.autograd`, it's built-in differentiation engine. If we look back at the previous code cell, we can see that the layers of the network are tensors which have the property `requires_grad` equal to true. This makes the tensor's gradients available to be computed and allows PyTorch to calculate the backward pass for our network. If you want to learn more about the details of gradient calculation, check out the official [Autograd tutorial](https://pytorch.org/tutorials/beginner/basics/autogradqs_tutorial.html).\n",
    "\n",
    "Let's use the [mean squared error](https://pytorch.org/docs/stable/generated/torch.nn.MSELoss.html#torch.nn.MSELoss) as our loss function and compute the gradients for the first dataset sample:"
   ]
  },
  {
   "cell_type": "code",
   "execution_count": 70,
   "id": "e1a2d9e2-0c48-419d-b42a-97d8513898df",
   "metadata": {
    "ExecuteTime": {
     "end_time": "2023-12-16T12:52:52.974719Z",
     "start_time": "2023-12-16T12:52:52.948174Z"
    }
   },
   "outputs": [
    {
     "name": "stdout",
     "output_type": "stream",
     "text": [
      "first sample...\n",
      "(tensor([-1.3221, -1.2851, -0.1439], device='mps:0'), tensor([-18.1868], device='mps:0'))\n",
      "first prediction...\n",
      "tensor([0.5635], device='mps:0', grad_fn=<LinearBackward0>)\n",
      "MSE loss :  tensor(351.5736, device='mps:0', grad_fn=<MseLossBackward0>)\n",
      "gradient of :  linear_layer.weight tensor([[-446.2212, -433.7148,  -48.5659]], device='mps:0')\n",
      "gradient of :  linear_layer.bias tensor([337.5053], device='mps:0')\n"
     ]
    }
   ],
   "source": [
    "loss_fn = torch.nn.MSELoss()\n",
    "\n",
    "first_sample = dataset[0]\n",
    "\n",
    "first_prediction = network(first_sample[0])              # forward\n",
    "first_loss = loss_fn(first_sample[1], first_prediction)   # pass\n",
    "\n",
    "print(\"first sample...\", first_sample, sep='\\n')\n",
    "print(\"first prediction...\", first_prediction, sep='\\n')\n",
    "print(\"MSE loss : \", first_loss)\n",
    "\n",
    "first_loss.backward()                                   # backward pass\n",
    "\n",
    "for name, param in network.named_parameters():\n",
    "    print(\"gradient of : \", name, param.grad)          # printing the gradients"
   ]
  },
  {
   "cell_type": "markdown",
   "id": "5a8aa82f-fa81-4c20-bc77-d920bc015115",
   "metadata": {},
   "source": [
    "We can see that our network's parameters are stored in the `param.grad` attribute. It is important to see how we've used the loss function:\n",
    "1) `loss_fn` - what our loss function is\n",
    "2) `first_loss` - represents the loss for given network predictions and ground truths\n",
    "3) `first_loss.backward` - propagating the gradients to our parameters\n",
    "\n",
    "Hopefully this demonstrates how PyTorch calculates and propagates the gradients of our loss function. \n",
    "\n",
    "Now we need to apply these gradients to our parameters. This is done with [an `Optimizer`](https://pytorch.org/docs/stable/optim.html). When defining an optimizer we need to provide it with parameters that should be optimized. In our case, these are the network's parameters. PyTorch provides [many optimization algorithms](https://pytorch.org/docs/stable/optim.html#algorithms) that apply gradients to our parameters. We'll use [stochastic gradient descent](https://pytorch.org/docs/stable/generated/torch.optim.SGD.html#torch.optim.SGD) as our optimizer. Let's instantiate our network, redefine our data loader, initialize the optimizer and define our hyperparameters:"
   ]
  },
  {
   "cell_type": "code",
   "execution_count": 76,
   "id": "195904a3-d370-4003-9d54-3dda9fc7ab6e",
   "metadata": {
    "ExecuteTime": {
     "end_time": "2023-12-16T12:55:09.661452Z",
     "start_time": "2023-12-16T12:55:09.655707Z"
    }
   },
   "outputs": [],
   "source": [
    "from torch.optim import SGD\n",
    "\n",
    "# defining the hyperparameters\n",
    "epochs, learning_rate, batch_size = 100, 0.1, 100\n",
    "\n",
    "# redefining the dataloader with the new batch size\n",
    "dataloader = DataLoader(dataset, batch_size=batch_size, shuffle = True)\n",
    "\n",
    "# instantiating our network\n",
    "network = NeuralNetworkAlpha().to(device)\n",
    "\n",
    "# defining our optimizer for our network's parameters\n",
    "optimizer = SGD(network.parameters(), lr=learning_rate)"
   ]
  },
  {
   "cell_type": "markdown",
   "id": "69c94050-a44e-4366-8d36-349777633479",
   "metadata": {},
   "source": [
    "Finally we need to iterate over our whole dataset and repeat the whole process - this is our training loop. Let's proceed with defining our training loop:"
   ]
  },
  {
   "cell_type": "code",
   "execution_count": 77,
   "id": "45bb05d3-ffa9-4f83-93b0-0eb547498f6e",
   "metadata": {
    "ExecuteTime": {
     "end_time": "2023-12-16T12:55:12.661723Z",
     "start_time": "2023-12-16T12:55:11.453310Z"
    }
   },
   "outputs": [
    {
     "name": "stdout",
     "output_type": "stream",
     "text": [
      "Epoch 0 average loss : 2.872868299484253\n",
      "Epoch 10 average loss : 0.007845906540751457\n",
      "Epoch 20 average loss : 7.183633715612814e-05\n",
      "Epoch 30 average loss : 1.454603079764638e-06\n",
      "Epoch 40 average loss : 3.345975585489214e-08\n",
      "Epoch 50 average loss : 7.801321810774198e-10\n",
      "Epoch 60 average loss : 1.8465175569137848e-11\n",
      "Epoch 70 average loss : 4.275250401093722e-13\n",
      "Epoch 80 average loss : 6.727986765799054e-14\n",
      "Epoch 90 average loss : 6.727986765799054e-14\n"
     ]
    }
   ],
   "source": [
    "for epoch in range(epochs):\n",
    "    # set the network to training mode\n",
    "    network.train()\n",
    "\n",
    "    epoch_loss = 0\n",
    "    number_of_samples = len(dataloader.dataset)\n",
    "    \n",
    "    for batch, (X, y) in enumerate(dataloader, start=1):\n",
    "        # forward pass\n",
    "        preds = network(X)   \n",
    "        loss = loss_fn(y, preds)\n",
    "        \n",
    "        \n",
    "        # backward pass\n",
    "        loss.backward()\n",
    "        optimizer.step()\n",
    "\n",
    "        # resetting the gradients\n",
    "        optimizer.zero_grad()\n",
    "\n",
    "        # updating the epoch loss with the current batch loss\n",
    "        epoch_loss += loss\n",
    "    \n",
    "    # printing the loss value for every 10th epoch\n",
    "    if epoch % 10 == 0:\n",
    "        print(f\"Epoch {epoch} average loss : {epoch_loss/number_of_samples}\")"
   ]
  },
  {
   "cell_type": "markdown",
   "id": "e8d1edeb-416b-44b1-bfcf-5305e0dd28ef",
   "metadata": {},
   "source": [
    "We can see that the value of the loss function is decreasing, meaning that our network's parameters are being optimized for our training dataset. If we inspect the parameter values of our network:"
   ]
  },
  {
   "cell_type": "code",
   "execution_count": 78,
   "id": "636bfdf1-d688-4866-b017-9a3d1d19812d",
   "metadata": {
    "ExecuteTime": {
     "end_time": "2023-12-16T12:55:25.381552Z",
     "start_time": "2023-12-16T12:55:25.352945Z"
    }
   },
   "outputs": [
    {
     "name": "stdout",
     "output_type": "stream",
     "text": [
      "linear_layer.weight Parameter containing:\n",
      "tensor([[9.0000, 8.0000, 7.0000]], device='mps:0', requires_grad=True)\n",
      "linear_layer.bias Parameter containing:\n",
      "tensor([5.0000], device='mps:0', requires_grad=True)\n"
     ]
    }
   ],
   "source": [
    "for name, param in network.named_parameters():\n",
    "    print(name, param)"
   ]
  },
  {
   "cell_type": "markdown",
   "id": "41020072-a3d0-41c5-a211-47071e91fd0e",
   "metadata": {},
   "source": [
    "We can see that we've achieved the same values that we used for our synthetic dataset.\n",
    "\n",
    "You might wonder why we've called `network.train()` inside our training loop? This is a best practice according to [the official documentation](https://pytorch.org/docs/stable/notes/autograd.html#evaluation-mode-nn-module-eval) :\n",
    "> It is recommended that you always use `model.train()` when training and `model.eval()` when evaluating your model (validation/testing) even if you aren’t sure your model has training-mode specific behavior, because a module you are using might be updated to behave differently in training and eval modes.\n",
    "\n",
    "This concludes our introduction to PyTorch."
   ]
  },
  {
   "cell_type": "markdown",
   "id": "cc69d9a1-3ea2-4f90-b84b-313fa238e025",
   "metadata": {},
   "source": [
    "## 5.3 The XOR problem\n",
    "\n",
    "XOR samples are not linearly separable. However, they can be separated by introducing non-linearities with our activation function. We'll start by defining our dataset using a helpful wrapper [TensorDataset](https://pytorch.org/docs/stable/data.html#torch.utils.data.TensorDataset):"
   ]
  },
  {
   "cell_type": "code",
   "execution_count": 143,
   "id": "80155416-60f7-43f5-98ee-e94a972903a6",
   "metadata": {
    "ExecuteTime": {
     "end_time": "2023-12-16T13:51:30.932203Z",
     "start_time": "2023-12-16T13:51:30.921881Z"
    }
   },
   "outputs": [],
   "source": [
    "from torch.utils.data.dataset import TensorDataset\n",
    "\n",
    "xor_in = torch.tensor([\n",
    "    [0, 0],\n",
    "    [0, 1],\n",
    "    [1, 0],\n",
    "    [1, 1]], dtype=torch.float).to(device)\n",
    "\n",
    "xor_out = torch.tensor([0, 1, 1, 0], dtype=torch.float).to(device) # it is important to use the correct datatype\n",
    "xor_dataset = TensorDataset(xor_in, xor_out)"
   ]
  },
  {
   "cell_type": "markdown",
   "id": "e292821d-be45-4425-b11c-c7491dc8d179",
   "metadata": {},
   "source": [
    "Now we'll define our network using a [Sequential container](https://pytorch.org/docs/stable/generated/torch.nn.Sequential.html#sequential) for our layers. Our network is also parameterized by a given activation function."
   ]
  },
  {
   "cell_type": "code",
   "execution_count": 144,
   "id": "4aa4c26a-6296-40c7-8a9a-1efc28e950b4",
   "metadata": {
    "ExecuteTime": {
     "end_time": "2023-12-16T13:51:32.442894Z",
     "start_time": "2023-12-16T13:51:32.432904Z"
    }
   },
   "outputs": [],
   "source": [
    "class XORNetwork(nn.Module):\n",
    "    def __init__(self, activation_func):\n",
    "        super().__init__()\n",
    "        self.layer_stack = nn.Sequential(\n",
    "            nn.Linear(2, 2),\n",
    "            activation_func(),\n",
    "            nn.Linear(2, 1),\n",
    "        )\n",
    "\n",
    "    def forward(self, x):\n",
    "        return self.layer_stack(x)"
   ]
  },
  {
   "cell_type": "markdown",
   "id": "21d23429-9e23-4488-92f1-585591dd5f8b",
   "metadata": {},
   "source": [
    "Let's instantiate our network, redefine our data loader and loss function, initialize the optimizer and define our hyperparameters:"
   ]
  },
  {
   "cell_type": "code",
   "execution_count": 145,
   "id": "e084138f-af7a-45a4-98a9-442d9638e011",
   "metadata": {
    "ExecuteTime": {
     "end_time": "2023-12-16T13:51:34.768953Z",
     "start_time": "2023-12-16T13:51:34.759111Z"
    }
   },
   "outputs": [],
   "source": [
    "from torch.optim import Adam\n",
    "\n",
    "# defining the hyperparameters\n",
    "epochs, learning_rate, batch_size = 10000, 0.1, 1\n",
    "\n",
    "# defining the dataloader\n",
    "xor_dataloader = DataLoader(xor_dataset, batch_size=batch_size, shuffle=True)\n",
    "\n",
    "# defining the activation function\n",
    "activation_func = nn.Tanh\n",
    "\n",
    "# instantiating the network\n",
    "xor_network = XORNetwork(activation_func).to(device)\n",
    "\n",
    "# defining the optimizer type\n",
    "optimizer_type = Adam\n",
    "\n",
    "# defining our optimizer for our network's parameters\n",
    "optimizer = optimizer_type(xor_network.parameters(), lr = learning_rate)\n",
    "\n",
    "# redefining our loss function\n",
    "loss_fn = nn.MSELoss()\n",
    "\n",
    "# defining the threshold for stopping the training\n",
    "threshold=1e-6"
   ]
  },
  {
   "cell_type": "markdown",
   "id": "2806938d-1ccf-40d1-a6a6-864b42cd2ebf",
   "metadata": {},
   "source": [
    "In practice, we recommend that you define a general training loop function instead of retyping the training loop for each network. [The official tutorial](https://pytorch.org/tutorials/beginner/basics/optimization_tutorial.html#full-implementation) provides a great example. In this exercise we're going to repeat our training loop for explanatory purposes. Let's proceed with our training loop:"
   ]
  },
  {
   "cell_type": "code",
   "execution_count": 146,
   "id": "8be263e5-a28e-4d7b-a37c-514ec8e5182c",
   "metadata": {
    "ExecuteTime": {
     "end_time": "2023-12-16T13:51:38.042379Z",
     "start_time": "2023-12-16T13:51:36.940350Z"
    }
   },
   "outputs": [
    {
     "name": "stdout",
     "output_type": "stream",
     "text": [
      "Epoch 79 average loss : 9.882614904199727e-07\n",
      "Training is finished after epoch 80\n"
     ]
    }
   ],
   "source": [
    "for epoch in range(1, epochs + 1):\n",
    "    # set the network to training mode\n",
    "    xor_network.train()\n",
    "\n",
    "    epoch_loss = 0\n",
    "    number_of_samples = len(xor_dataloader.dataset)\n",
    "    \n",
    "    for batch, (X, y) in enumerate(xor_dataloader):\n",
    "        # forward pass\n",
    "        preds = xor_network(X)\n",
    "        y = y.unsqueeze(1)\n",
    "        \n",
    "        loss = loss_fn(y, preds)\n",
    "\n",
    "        # backward pass\n",
    "        loss.backward()\n",
    "        optimizer.step()\n",
    "\n",
    "        # resetting the gradients\n",
    "        optimizer.zero_grad()\n",
    "\n",
    "        # updating the epoch loss with the current batch loss\n",
    "        epoch_loss += loss\n",
    "    \n",
    "    # printing the loss value for every 100th epoch\n",
    "    if epoch % 100 == 0:\n",
    "        print(f\"Epoch {epoch} average loss : {epoch_loss/number_of_samples}\")\n",
    "    if epoch_loss / number_of_samples < threshold:\n",
    "        print(f\"Epoch {epoch} average loss : {epoch_loss/number_of_samples}\")\n",
    "        print(f\"Training is finished after epoch {epoch+1}\")\n",
    "        break\n"
   ]
  },
  {
   "cell_type": "code",
   "execution_count": 148,
   "outputs": [
    {
     "name": "stdout",
     "output_type": "stream",
     "text": [
      "+---------------------+-----------+---------------+------------------+-----------------------+\n",
      "| Activation Function | Optimizer | Learning Rate | Number of Epochs |      Average Loss     |\n",
      "+---------------------+-----------+---------------+------------------+-----------------------+\n",
      "|       Sigmoid       |    SGD    |      0.1      |       838        | 9.653865618020063e-07 |\n",
      "|       Sigmoid       |    SGD    |      0.01     |       9893       | 9.954262623068644e-07 |\n",
      "|       Sigmoid       |    Adam   |      0.1      |       119        | 7.221656233014073e-07 |\n",
      "|       Sigmoid       |    Adam   |      0.01     |      10000       |   0.1675810068845749  |\n",
      "|  Hyperbolic Tangent |    SGD    |      0.1      |      10000       |  0.30699124932289124  |\n",
      "|  Hyperbolic Tangent |    SGD    |      0.01     |       1303       | 9.952292430170928e-07 |\n",
      "|  Hyperbolic Tangent |    Adam   |      0.1      |        64        | 6.188447514432482e-07 |\n",
      "|  Hyperbolic Tangent |    Adam   |      0.01     |       450        | 9.749510354595259e-07 |\n",
      "+---------------------+-----------+---------------+------------------+-----------------------+\n"
     ]
    }
   ],
   "source": [
    "import itertools\n",
    "\n",
    "from typing import Callable\n",
    "from prettytable import PrettyTable\n",
    "\n",
    "\n",
    "def init_model_and_train(activation_function: torch.nn.Module, optimizer_type: Callable[..., torch.optim.Optimizer], learning_rate: float) -> (int, float):\n",
    "    # defining the hyperparameters\n",
    "    epochs, batch_size = 10000, 1\n",
    "    \n",
    "    # defining the dataloader\n",
    "    xor_dataloader = DataLoader(xor_dataset, batch_size=batch_size, shuffle=True)\n",
    "    \n",
    "    # instantiating the network\n",
    "    xor_network = XORNetwork(activation_function).to(device)\n",
    "    \n",
    "    # defining our optimizer for our network's parameters\n",
    "    optimizer = optimizer_type(xor_network.parameters(), lr=learning_rate)\n",
    "    \n",
    "    # redefining our loss function\n",
    "    loss_fn = nn.MSELoss()\n",
    "    \n",
    "    # defining the threshold for stopping the training\n",
    "    threshold = 1e-6\n",
    "    \n",
    "    for epoch in range(1, epochs + 1):\n",
    "        # set the network to training mode\n",
    "        xor_network.train()\n",
    "    \n",
    "        epoch_loss = 0\n",
    "        number_of_samples = len(xor_dataloader.dataset)\n",
    "        \n",
    "        for batch, (X, y) in enumerate(xor_dataloader):\n",
    "            # forward pass\n",
    "            preds = xor_network(X)\n",
    "            y = y.unsqueeze(1)\n",
    "            \n",
    "            loss = loss_fn(y, preds)\n",
    "    \n",
    "            # backward pass\n",
    "            loss.backward()\n",
    "            optimizer.step()\n",
    "    \n",
    "            # resetting the gradients\n",
    "            optimizer.zero_grad()\n",
    "    \n",
    "            # updating the epoch loss with the current batch loss\n",
    "            epoch_loss += loss\n",
    "\n",
    "        if epoch_loss / number_of_samples < threshold:\n",
    "            return epoch, float(epoch_loss / number_of_samples)\n",
    "        \n",
    "        if epoch == epochs:\n",
    "            return epoch, float(epoch_loss / number_of_samples)\n",
    "\n",
    "\n",
    "activation_functions = [nn.Sigmoid, nn.Tanh]\n",
    "optimizers = [torch.optim.SGD, torch.optim.Adam]\n",
    "learning_rates = [0.1, 0.01]\n",
    "\n",
    "table = PrettyTable()\n",
    "table.field_names = [\"Activation Function\", \"Optimizer\", \"Learning Rate\", \"Number of Epochs\", \"Average Loss\"]\n",
    "\n",
    "for activation_function, optimizer, learning_rate in itertools.product(activation_functions, optimizers, learning_rates):\n",
    "    epoch, loss = init_model_and_train(activation_function, optimizer, learning_rate)\n",
    "    table.add_row([\n",
    "        \"Sigmoid\" if activation_function == nn.Sigmoid else \"Hyperbolic Tangent\", \n",
    "        \"SGD\" if optimizer == torch.optim.SGD else \"Adam\", \n",
    "        learning_rate, \n",
    "        epoch,\n",
    "        loss,\n",
    "    ])\n",
    "\n",
    "print(table)"
   ],
   "metadata": {
    "collapsed": false,
    "ExecuteTime": {
     "end_time": "2023-12-16T14:02:01.249591Z",
     "start_time": "2023-12-16T13:58:03.077970Z"
    }
   },
   "id": "7950b9ef7ba3c11c"
  },
  {
   "cell_type": "markdown",
   "id": "d074d1df-43e9-42ed-97a0-2618fbaa380c",
   "metadata": {},
   "source": [
    "**Task**\n",
    "\n",
    "1. How many epochs are required for the training process to converge for each combination of the chosen activation function (Sigmoid, Tanh), optimizer (SGD/Adam)  and various learning rates (0.1, 0.01)? Display the results using the table with the following headers: **Activation function, Optimizer, Learning rate, Number of epochs**).\n",
    "2. Which combination turned out to be the best? Are there combinations for which the training process does not converge?\n",
    "\n",
    "Remember to re-evaluate the previous two cells in order to properly apply changes."
   ]
  },
  {
   "cell_type": "markdown",
   "source": [
    "**Answers**\n",
    "\n",
    "1. The table is visible as the output of the above code cell.\n",
    "2. The best combination turned out to be Tanh + Adam + learning rate 0.1 and these are the same values which were used in the given example. The training process didn't converge for two combinations: Sigmoid + Adam + learning rate 0.01 and Tanh + SGD + learning rate 0.1."
   ],
   "metadata": {
    "collapsed": false
   },
   "id": "f8eee70d159f780c"
  },
  {
   "cell_type": "markdown",
   "id": "dbd29ef7-b8b4-400c-8a88-1b14e024a427",
   "metadata": {},
   "source": [
    "## 5.4 The MNIST dataset\n",
    "\n",
    "[The MNIST dataset](http://yann.lecun.com/exdb/mnist/) is a very popular dataset which contains 60,000 training and 10,000 test images of handwritten digits. It is used to test the ability of a method to recognize which digit is on a given image. MNIST dataset is included with the [`torchvision` library](https://pytorch.org/vision/stable/index.html), so let's start by importing the train and test datasets:"
   ]
  },
  {
   "cell_type": "markdown",
   "id": "abb767eb-14fe-4e02-aa77-eeadd7eea913",
   "metadata": {},
   "source": [
    "We've also used `ToTensor` function to transform MNIST images to tensors. Transforms are PyTorch mechanism of data processing. For additional details, check out [the Transforms tutorial](https://pytorch.org/tutorials/beginner/basics/transforms_tutorial.html).\n",
    "\n",
    "Let's continue by defining our network. We're going to ignore the spatial distribution of individual image pixels and simply use individual pixels as features. This can simply be done by [flattening our images](https://pytorch.org/docs/stable/generated/torch.nn.Flatten.html#torch.nn.Flatten). We'll also add aditional hidden layers with activation functions:"
   ]
  },
  {
   "cell_type": "code",
   "execution_count": 190,
   "id": "74ffceea-3e03-422a-80e9-66e23aced46a",
   "metadata": {
    "ExecuteTime": {
     "end_time": "2023-12-16T15:26:03.282939Z",
     "start_time": "2023-12-16T15:26:03.243880Z"
    }
   },
   "outputs": [],
   "source": [
    "from torchvision.datasets import MNIST\n",
    "from torchvision.datasets import FashionMNIST\n",
    "from torchvision.transforms import ToTensor\n",
    "\n",
    "# download MNIST from the internet and store it in the notebook's directory\n",
    "mnist_train = MNIST(root='', train=True, download=True, transform=ToTensor())\n",
    "mnist_test = MNIST(root='', train=False, download=True, transform=ToTensor())"
   ]
  },
  {
   "cell_type": "code",
   "execution_count": 191,
   "id": "a899cea4-a96b-4554-8452-17b091e971bc",
   "metadata": {
    "ExecuteTime": {
     "end_time": "2023-12-16T15:26:05.141800Z",
     "start_time": "2023-12-16T15:26:05.138170Z"
    }
   },
   "outputs": [],
   "source": [
    "class MNISTNetwork(nn.Module):\n",
    "    def __init__(self, hidden_layer_size1, hidden_layer_size2, activation_func):\n",
    "        super().__init__()\n",
    "        self.flatten = nn.Flatten()\n",
    "\n",
    "        # 28x28 is the resolution of the images\n",
    "        self.pixel_count = 28 * 28\n",
    "        self.number_of_classes = 10\n",
    "        \n",
    "        self.layer_stack = nn.Sequential(\n",
    "            nn.Linear(self.pixel_count, hidden_layer_size1),\n",
    "            activation_func(),\n",
    "            nn.Linear(hidden_layer_size1, hidden_layer_size2),\n",
    "            activation_func(),\n",
    "            nn.Linear(hidden_layer_size2, self.number_of_classes)\n",
    "        )\n",
    "\n",
    "    def forward(self, x):\n",
    "        x = self.flatten(x)\n",
    "        return self.layer_stack(x)"
   ]
  },
  {
   "cell_type": "markdown",
   "id": "7854f313-45bf-4e79-90a4-c1cd07431683",
   "metadata": {},
   "source": [
    "Let's instantiate all of the needed classes and variables. Since we're doing classification, we're going to use [cross entropy loss function](https://pytorch.org/docs/stable/generated/torch.nn.CrossEntropyLoss.html#torch.nn.CrossEntropyLoss)."
   ]
  },
  {
   "cell_type": "code",
   "execution_count": 192,
   "id": "cf93d8f7-8eb4-4ff5-a9fb-fd871ccceb66",
   "metadata": {
    "ExecuteTime": {
     "end_time": "2023-12-16T15:26:07.470901Z",
     "start_time": "2023-12-16T15:26:07.459919Z"
    }
   },
   "outputs": [],
   "source": [
    "# defining the hyperparameters\n",
    "epochs, learning_rate, batch_size = 20, 0.01, 100\n",
    "\n",
    "# defining the dataloaders\n",
    "mnist_train_dataloader = DataLoader(mnist_train, batch_size=batch_size, shuffle=True)\n",
    "mnist_test_dataloader = DataLoader(mnist_test, batch_size=batch_size, shuffle=True)\n",
    "\n",
    "# defining the activation function\n",
    "# activation_func = nn.Sigmoid\n",
    "# activation_func = nn.Tanh\n",
    "activation_func = nn.ReLU\n",
    "\n",
    "# instantiating the network\n",
    "hidden_layer_size_1 = 256\n",
    "hidden_layer_size_2 = 256\n",
    "mnist_network = MNISTNetwork(hidden_layer_size_1, hidden_layer_size_2, activation_func).to(device)\n",
    "\n",
    "# defining the optimizer type\n",
    "# optimizer_type = SGD\n",
    "optimizer_type = Adam\n",
    "\n",
    "# defining our optimizer for our network's parameters\n",
    "optimizer = optimizer_type(mnist_network.parameters(), lr = learning_rate)\n",
    "\n",
    "# redefining our loss function\n",
    "loss_fn = nn.CrossEntropyLoss()"
   ]
  },
  {
   "cell_type": "markdown",
   "id": "e3073774-3e8b-422f-9cb9-d1fe88fb2977",
   "metadata": {},
   "source": [
    "And let's run our training loop. We're also going to print the print the value of the loss function for the validation set."
   ]
  },
  {
   "cell_type": "code",
   "execution_count": 193,
   "id": "f68bfd85-1f51-47f6-8676-87593d3dfcf1",
   "metadata": {
    "ExecuteTime": {
     "end_time": "2023-12-16T15:28:00.601843Z",
     "start_time": "2023-12-16T15:26:09.753686Z"
    }
   },
   "outputs": [
    {
     "name": "stdout",
     "output_type": "stream",
     "text": [
      "Epoch 1 average train loss : 0.002425685990601778\n",
      "Epoch 1 average test loss : 0.0015898754354566336\n",
      "Epoch 1 test accuracy : 0.9568\n",
      "Epoch 2 average train loss : 0.0014419269282370806\n",
      "Epoch 2 average test loss : 0.0016727703623473644\n",
      "Epoch 2 test accuracy : 0.9521\n",
      "Epoch 3 average train loss : 0.0011301561025902629\n",
      "Epoch 3 average test loss : 0.0012704315595328808\n",
      "Epoch 3 test accuracy : 0.9671\n",
      "Epoch 4 average train loss : 0.0011088093742728233\n",
      "Epoch 4 average test loss : 0.0015011024661362171\n",
      "Epoch 4 test accuracy : 0.9632\n",
      "Epoch 5 average train loss : 0.0009734396589919925\n",
      "Epoch 5 average test loss : 0.00148422468919307\n",
      "Epoch 5 test accuracy : 0.969\n",
      "Epoch 6 average train loss : 0.0008102067513391376\n",
      "Epoch 6 average test loss : 0.0014652592362836003\n",
      "Epoch 6 test accuracy : 0.965\n",
      "Epoch 7 average train loss : 0.0008137558470480144\n",
      "Epoch 7 average test loss : 0.0016970706637948751\n",
      "Epoch 7 test accuracy : 0.9615\n",
      "Epoch 8 average train loss : 0.0007324100588448346\n",
      "Epoch 8 average test loss : 0.001416578539647162\n",
      "Epoch 8 test accuracy : 0.969\n",
      "Epoch 9 average train loss : 0.0007299566641449928\n",
      "Epoch 9 average test loss : 0.0013655840884894133\n",
      "Epoch 9 test accuracy : 0.9692\n",
      "Epoch 10 average train loss : 0.0006597418105229735\n",
      "Epoch 10 average test loss : 0.0015632591675966978\n",
      "Epoch 10 test accuracy : 0.969\n",
      "Epoch 11 average train loss : 0.000648832181468606\n",
      "Epoch 11 average test loss : 0.0017717750743031502\n",
      "Epoch 11 test accuracy : 0.9719\n",
      "Epoch 12 average train loss : 0.0006773225613869727\n",
      "Epoch 12 average test loss : 0.0015311947790905833\n",
      "Epoch 12 test accuracy : 0.9677\n",
      "Epoch 13 average train loss : 0.0005310865235514939\n",
      "Epoch 13 average test loss : 0.0015524413902312517\n",
      "Epoch 13 test accuracy : 0.974\n",
      "Epoch 14 average train loss : 0.000566733127925545\n",
      "Epoch 14 average test loss : 0.0021112693939357996\n",
      "Epoch 14 test accuracy : 0.9675\n",
      "Epoch 15 average train loss : 0.0006377205718308687\n",
      "Epoch 15 average test loss : 0.0020453808829188347\n",
      "Epoch 15 test accuracy : 0.9714\n",
      "Epoch 16 average train loss : 0.0004586618160828948\n",
      "Epoch 16 average test loss : 0.001748270820826292\n",
      "Epoch 16 test accuracy : 0.974\n",
      "Epoch 17 average train loss : 0.0004790765233337879\n",
      "Epoch 17 average test loss : 0.0018331421306356788\n",
      "Epoch 17 test accuracy : 0.9736\n",
      "Epoch 18 average train loss : 0.0005249933456070721\n",
      "Epoch 18 average test loss : 0.002026735106483102\n",
      "Epoch 18 test accuracy : 0.9733\n",
      "Epoch 19 average train loss : 0.0005605098558589816\n",
      "Epoch 19 average test loss : 0.002177557675167918\n",
      "Epoch 19 test accuracy : 0.9658\n",
      "Epoch 20 average train loss : 0.00047076860209926963\n",
      "Epoch 20 average test loss : 0.0018681532237678766\n",
      "Epoch 20 test accuracy : 0.9737\n"
     ]
    }
   ],
   "source": [
    "for epoch in range(1, epochs + 1):\n",
    "    # set the network to training mode\n",
    "    mnist_network.train()\n",
    "\n",
    "    epoch_loss = 0\n",
    "    number_of_samples = len(mnist_train_dataloader.dataset)\n",
    "        \n",
    "    for batch, (X, y) in enumerate(mnist_train_dataloader):\n",
    "        # forward pass\n",
    "        preds = mnist_network(X.to(device))\n",
    "        loss = loss_fn(preds, y.to(device))\n",
    "\n",
    "        # backward pass\n",
    "        loss.backward()\n",
    "        optimizer.step()\n",
    "\n",
    "        # reseting the gradients\n",
    "        optimizer.zero_grad()\n",
    "        \n",
    "        # updating the epoch loss with the current batch loss\n",
    "        epoch_loss += loss\n",
    "\n",
    "    # printing the train loss value for every n epochs\n",
    "    if epoch % 1 == 0:\n",
    "        print(f\"Epoch {epoch} average train loss : {epoch_loss/number_of_samples}\")\n",
    "\n",
    "    # printing the test set metrics for every n epochs\n",
    "    if epoch % 1 == 0:\n",
    "        test_loss = 0\n",
    "        correct = 0\n",
    "        number_of_test_samples = len(mnist_test_dataloader.dataset)\n",
    "\n",
    "        # set the network to evaluation mode\n",
    "        mnist_network.eval()\n",
    "        \n",
    "        for (X, y) in mnist_test_dataloader:\n",
    "            preds = mnist_network(X.to(device))\n",
    "            loss = loss_fn(preds, y.to(device))\n",
    "\n",
    "            # updating the test loss with the current batch loss\n",
    "            test_loss += loss\n",
    "\n",
    "            # updating the number of correctly classified images\n",
    "            # this great one-liner was copied from \n",
    "            # https://pytorch.org/tutorials/beginner/basics/optimization_tutorial.html#full-implementation\n",
    "            correct += (preds.argmax(1) == y.to(device)).type(torch.float).sum().item()\n",
    "\n",
    "        print(f\"Epoch {epoch} average test loss : {test_loss/number_of_test_samples}\")\n",
    "        print(f\"Epoch {epoch} test accuracy : {correct/number_of_test_samples}\")"
   ]
  },
  {
   "cell_type": "code",
   "execution_count": 198,
   "outputs": [
    {
     "data": {
      "text/plain": "  0%|          | 0/96 [00:00<?, ?it/s]",
      "application/vnd.jupyter.widget-view+json": {
       "version_major": 2,
       "version_minor": 0,
       "model_id": "3f5e90ff7bde4f6d9c5ca7202af8a534"
      }
     },
     "metadata": {},
     "output_type": "display_data"
    },
    {
     "name": "stdout",
     "output_type": "stream",
     "text": [
      "+---------------------+-----------+---------------+------------+---------------------+---------------------+------------------+---------------+\n",
      "| Activation Function | Optimizer | Learning Rate | Batch Size | Hidden Layer Size 1 | Hidden Layer Size 2 | Number of Epochs | Test Accuracy |\n",
      "+---------------------+-----------+---------------+------------+---------------------+---------------------+------------------+---------------+\n",
      "|         ReLU        |    SGD    |      0.1      |    100     |         256         |         256         |        20        |     0.9813    |\n",
      "|         ReLU        |    SGD    |      0.1      |    100     |         256         |          64         |        20        |     0.9805    |\n",
      "|       Sigmoid       |    Adam   |      0.01     |    500     |         256         |         256         |        20        |     0.9804    |\n",
      "|  Hyperbolic Tangent |    SGD    |      0.1      |    100     |         256         |         256         |        20        |     0.9793    |\n",
      "|       Sigmoid       |    Adam   |      0.01     |    500     |         256         |          64         |        20        |     0.9785    |\n",
      "|         ReLU        |    SGD    |      0.1      |    100     |          64         |         256         |        20        |     0.9779    |\n",
      "|  Hyperbolic Tangent |    SGD    |      0.1      |    100     |         256         |          64         |        20        |     0.9769    |\n",
      "|       Sigmoid       |    Adam   |      0.01     |    100     |         256         |         256         |        20        |     0.9765    |\n",
      "|       Sigmoid       |    Adam   |      0.01     |    100     |         256         |          64         |        20        |     0.9757    |\n",
      "|         ReLU        |    SGD    |      0.1      |    100     |          64         |          64         |        20        |     0.9755    |\n",
      "|         ReLU        |    Adam   |      0.01     |    500     |          64         |          64         |        20        |     0.9755    |\n",
      "|  Hyperbolic Tangent |    SGD    |      0.1      |    100     |          64         |         256         |        20        |     0.9749    |\n",
      "|  Hyperbolic Tangent |    SGD    |      0.1      |    100     |          64         |          64         |        20        |     0.9746    |\n",
      "|         ReLU        |    Adam   |      0.01     |    500     |          64         |         256         |        20        |     0.9745    |\n",
      "|         ReLU        |    Adam   |      0.01     |    500     |         256         |         256         |        20        |     0.9744    |\n",
      "|         ReLU        |    Adam   |      0.01     |    500     |         256         |          64         |        20        |     0.9738    |\n",
      "|       Sigmoid       |    Adam   |      0.01     |    100     |          64         |          64         |        20        |     0.9718    |\n",
      "|         ReLU        |    Adam   |      0.01     |    100     |         256         |         256         |        20        |     0.9717    |\n",
      "|         ReLU        |    Adam   |      0.01     |    100     |          64         |         256         |        20        |     0.9709    |\n",
      "|       Sigmoid       |    Adam   |      0.01     |    100     |          64         |         256         |        20        |     0.9708    |\n",
      "|       Sigmoid       |    Adam   |      0.01     |    500     |          64         |          64         |        20        |     0.9705    |\n",
      "|       Sigmoid       |    Adam   |      0.01     |    500     |          64         |         256         |        20        |     0.9703    |\n",
      "|         ReLU        |    Adam   |      0.01     |    100     |         256         |          64         |        20        |     0.9702    |\n",
      "|  Hyperbolic Tangent |    Adam   |      0.01     |    500     |          64         |         256         |        20        |     0.9702    |\n",
      "|  Hyperbolic Tangent |    Adam   |      0.01     |    500     |         256         |          64         |        20        |     0.9699    |\n",
      "|  Hyperbolic Tangent |    Adam   |      0.01     |    500     |         256         |         256         |        20        |     0.9695    |\n",
      "|         ReLU        |    Adam   |      0.01     |    100     |          64         |          64         |        20        |     0.9684    |\n",
      "|  Hyperbolic Tangent |    Adam   |      0.01     |    500     |          64         |          64         |        20        |     0.9675    |\n",
      "|         ReLU        |    SGD    |      0.1      |    500     |         256         |         256         |        20        |     0.9665    |\n",
      "|         ReLU        |    SGD    |      0.1      |    500     |         256         |          64         |        20        |     0.9657    |\n",
      "|         ReLU        |    SGD    |      0.1      |    500     |          64         |          64         |        20        |     0.9614    |\n",
      "|         ReLU        |    SGD    |      0.1      |    500     |          64         |         256         |        20        |     0.9599    |\n",
      "|  Hyperbolic Tangent |    SGD    |      0.1      |    500     |          64         |         256         |        20        |     0.9585    |\n",
      "|  Hyperbolic Tangent |    SGD    |      0.1      |    500     |          64         |          64         |        20        |     0.9569    |\n",
      "|       Sigmoid       |    SGD    |      0.1      |    100     |          64         |         256         |        20        |     0.9556    |\n",
      "|  Hyperbolic Tangent |    Adam   |      0.01     |    100     |          64         |          64         |        20        |     0.9554    |\n",
      "|  Hyperbolic Tangent |    SGD    |      0.1      |    500     |         256         |         256         |        20        |     0.9523    |\n",
      "|  Hyperbolic Tangent |    SGD    |      0.1      |    500     |         256         |          64         |        20        |     0.9523    |\n",
      "|       Sigmoid       |    SGD    |      0.1      |    100     |          64         |          64         |        20        |     0.9522    |\n",
      "|  Hyperbolic Tangent |    Adam   |      0.01     |    100     |          64         |         256         |        20        |     0.9495    |\n",
      "|         ReLU        |    SGD    |      0.01     |    100     |         256         |         256         |        20        |     0.9482    |\n",
      "|  Hyperbolic Tangent |    Adam   |      0.01     |    100     |         256         |          64         |        20        |     0.9478    |\n",
      "|         ReLU        |    SGD    |      0.01     |    100     |         256         |          64         |        20        |     0.9465    |\n",
      "|         ReLU        |    SGD    |      0.01     |    100     |          64         |         256         |        20        |     0.9462    |\n",
      "|       Sigmoid       |    SGD    |      0.1      |    100     |         256         |         256         |        20        |     0.945     |\n",
      "|  Hyperbolic Tangent |    Adam   |      0.01     |    100     |         256         |         256         |        20        |     0.9433    |\n",
      "|  Hyperbolic Tangent |    SGD    |      0.01     |    100     |          64         |         256         |        20        |     0.9427    |\n",
      "|         ReLU        |    SGD    |      0.01     |    100     |          64         |          64         |        20        |     0.9424    |\n",
      "|       Sigmoid       |    SGD    |      0.1      |    100     |         256         |          64         |        20        |     0.9414    |\n",
      "|  Hyperbolic Tangent |    SGD    |      0.01     |    100     |          64         |          64         |        20        |     0.9402    |\n",
      "|  Hyperbolic Tangent |    SGD    |      0.01     |    100     |         256         |          64         |        20        |     0.9357    |\n",
      "|  Hyperbolic Tangent |    SGD    |      0.01     |    100     |         256         |         256         |        20        |     0.9322    |\n",
      "|       Sigmoid       |    Adam   |      0.1      |    500     |          64         |          64         |        20        |     0.9126    |\n",
      "|       Sigmoid       |    Adam   |      0.1      |    100     |          64         |          64         |        20        |     0.9048    |\n",
      "|  Hyperbolic Tangent |    SGD    |      0.01     |    500     |          64         |         256         |        20        |     0.9045    |\n",
      "|  Hyperbolic Tangent |    SGD    |      0.01     |    500     |         256         |         256         |        20        |     0.9009    |\n",
      "|         ReLU        |    SGD    |      0.01     |    500     |          64         |         256         |        20        |     0.8996    |\n",
      "|  Hyperbolic Tangent |    SGD    |      0.01     |    500     |         256         |          64         |        20        |     0.8984    |\n",
      "|         ReLU        |    SGD    |      0.01     |    500     |         256         |         256         |        20        |     0.8969    |\n",
      "|  Hyperbolic Tangent |    SGD    |      0.01     |    500     |          64         |          64         |        20        |     0.8966    |\n",
      "|         ReLU        |    SGD    |      0.01     |    500     |         256         |          64         |        20        |     0.8959    |\n",
      "|         ReLU        |    Adam   |      0.1      |    500     |         256         |          64         |        20        |     0.8956    |\n",
      "|         ReLU        |    SGD    |      0.01     |    500     |          64         |          64         |        20        |     0.8939    |\n",
      "|       Sigmoid       |    SGD    |      0.1      |    500     |          64         |         256         |        20        |     0.8906    |\n",
      "|  Hyperbolic Tangent |    Adam   |      0.1      |    500     |          64         |          64         |        20        |     0.8851    |\n",
      "|       Sigmoid       |    Adam   |      0.1      |    100     |          64         |         256         |        20        |     0.8827    |\n",
      "|       Sigmoid       |    SGD    |      0.1      |    500     |         256         |         256         |        20        |     0.8803    |\n",
      "|       Sigmoid       |    SGD    |      0.1      |    500     |          64         |          64         |        20        |     0.8735    |\n",
      "|       Sigmoid       |    SGD    |      0.1      |    500     |         256         |          64         |        20        |     0.8691    |\n",
      "|  Hyperbolic Tangent |    Adam   |      0.1      |    500     |          64         |         256         |        20        |     0.8412    |\n",
      "|  Hyperbolic Tangent |    Adam   |      0.1      |    500     |         256         |          64         |        20        |     0.8235    |\n",
      "|       Sigmoid       |    SGD    |      0.01     |    100     |          64         |         256         |        20        |     0.7804    |\n",
      "|       Sigmoid       |    SGD    |      0.01     |    100     |         256         |         256         |        20        |     0.7779    |\n",
      "|       Sigmoid       |    SGD    |      0.01     |    100     |         256         |          64         |        20        |     0.751     |\n",
      "|       Sigmoid       |    SGD    |      0.01     |    100     |          64         |          64         |        20        |     0.7254    |\n",
      "|  Hyperbolic Tangent |    Adam   |      0.1      |    100     |          64         |          64         |        20        |     0.6816    |\n",
      "|         ReLU        |    Adam   |      0.1      |    500     |          64         |          64         |        20        |     0.6755    |\n",
      "|         ReLU        |    Adam   |      0.1      |    500     |          64         |         256         |        20        |     0.6373    |\n",
      "|  Hyperbolic Tangent |    Adam   |      0.1      |    500     |         256         |         256         |        20        |     0.6225    |\n",
      "|  Hyperbolic Tangent |    Adam   |      0.1      |    100     |         256         |          64         |        20        |     0.5405    |\n",
      "|  Hyperbolic Tangent |    Adam   |      0.1      |    100     |          64         |         256         |        20        |     0.4196    |\n",
      "|         ReLU        |    Adam   |      0.1      |    500     |         256         |         256         |        20        |     0.2967    |\n",
      "|         ReLU        |    Adam   |      0.1      |    100     |          64         |          64         |        20        |     0.2878    |\n",
      "|         ReLU        |    Adam   |      0.1      |    100     |         256         |         256         |        20        |     0.213     |\n",
      "|         ReLU        |    Adam   |      0.1      |    100     |         256         |          64         |        20        |     0.2006    |\n",
      "|  Hyperbolic Tangent |    Adam   |      0.1      |    100     |         256         |         256         |        20        |     0.1897    |\n",
      "|       Sigmoid       |    SGD    |      0.01     |    500     |          64         |         256         |        20        |     0.1413    |\n",
      "|       Sigmoid       |    SGD    |      0.01     |    500     |         256         |          64         |        20        |     0.1297    |\n",
      "|       Sigmoid       |    SGD    |      0.01     |    500     |         256         |         256         |        20        |     0.1219    |\n",
      "|       Sigmoid       |    SGD    |      0.01     |    500     |          64         |          64         |        20        |     0.1149    |\n",
      "|       Sigmoid       |    Adam   |      0.1      |    100     |         256         |         256         |        20        |     0.1135    |\n",
      "|         ReLU        |    Adam   |      0.1      |    100     |          64         |         256         |        20        |     0.1135    |\n",
      "|       Sigmoid       |    Adam   |      0.1      |    100     |         256         |          64         |        20        |     0.1032    |\n",
      "|       Sigmoid       |    Adam   |      0.1      |    500     |          64         |         256         |        20        |     0.1028    |\n",
      "|       Sigmoid       |    Adam   |      0.1      |    500     |         256         |         256         |        20        |     0.098     |\n",
      "|       Sigmoid       |    Adam   |      0.1      |    500     |         256         |          64         |        20        |     0.0892    |\n",
      "+---------------------+-----------+---------------+------------+---------------------+---------------------+------------------+---------------+\n"
     ]
    }
   ],
   "source": [
    "from tqdm.notebook import tqdm\n",
    "\n",
    "\n",
    "def init_and_train_model(\n",
    "        activation_function: Callable[..., torch.nn.Module], \n",
    "        optimizer_type: Callable[..., torch.optim.Optimizer], \n",
    "        learning_rate: float, \n",
    "        batch_size: int,\n",
    "        hidden_layer_size_1: int,\n",
    "        hidden_layer_size_2: int,\n",
    ") -> (int, float):\n",
    "    # defining the hyperparameters\n",
    "    epochs = 20\n",
    "    \n",
    "    # defining the dataloaders\n",
    "    mnist_train_dataloader = DataLoader(mnist_train, batch_size=batch_size, shuffle=True)\n",
    "    mnist_test_dataloader = DataLoader(mnist_test, batch_size=batch_size, shuffle=True)\n",
    "    \n",
    "    # defining the activation function\n",
    "    # activation_func = nn.Sigmoid\n",
    "    # activation_func = nn.Tanh\n",
    "    \n",
    "    # instantiating the network\n",
    "    mnist_network = MNISTNetwork(hidden_layer_size_1, hidden_layer_size_2, activation_function).to(device)\n",
    "    \n",
    "    # defining our optimizer for our network's parameters\n",
    "    optimizer = optimizer_type(mnist_network.parameters(), lr = learning_rate)\n",
    "    \n",
    "    # redefining our loss function\n",
    "    loss_fn = nn.CrossEntropyLoss()\n",
    "\n",
    "\n",
    "    for epoch in range(1, epochs + 1):\n",
    "        # set the network to training mode\n",
    "        mnist_network.train()\n",
    "            \n",
    "        for batch, (X, y) in enumerate(mnist_train_dataloader):\n",
    "            # forward pass\n",
    "            preds = mnist_network(X.to(device))\n",
    "            loss = loss_fn(preds, y.to(device))\n",
    "    \n",
    "            # backward pass\n",
    "            loss.backward()\n",
    "            optimizer.step()\n",
    "    \n",
    "            # reseting the gradients\n",
    "            optimizer.zero_grad()\n",
    "\n",
    "    correct = 0\n",
    "    \n",
    "    # set the network to evaluation mode\n",
    "    mnist_network.eval()\n",
    "            \n",
    "    for (X, y) in mnist_test_dataloader:\n",
    "        preds = mnist_network(X.to(device))\n",
    "    \n",
    "        # updating the number of correctly classified images\n",
    "        # this great one-liner was copied from \n",
    "        # https://pytorch.org/tutorials/beginner/basics/optimization_tutorial.html#full-implementation\n",
    "        correct += (preds.argmax(1) == y.to(device)).type(torch.float).sum().item()\n",
    "    \n",
    "    return epochs, correct / len(mnist_test_dataloader.dataset)\n",
    "\n",
    "\n",
    "table = PrettyTable()\n",
    "table.field_names = [\n",
    "    \"Activation Function\", \"Optimizer\", \"Learning Rate\", \"Batch Size\", \"Hidden Layer Size 1\", \"Hidden Layer Size 2\", \"Number of Epochs\", \"Test Accuracy\",\n",
    "]\n",
    "table.sortby = \"Test Accuracy\"\n",
    "table.reversesort = True\n",
    "\n",
    "activation_functions = [nn.Sigmoid, nn.Tanh, nn.ReLU]\n",
    "optimizers = [torch.optim.Adam, torch.optim.SGD]\n",
    "learning_rates = [0.01, 0.1]\n",
    "batch_sizes = [100, 500]\n",
    "hidden_layer_sizes_1 = [64, 256]\n",
    "hidden_layer_sizes_2 = [64, 256]\n",
    "\n",
    "combs = list(itertools.product(activation_functions, optimizers, learning_rates, batch_sizes, hidden_layer_sizes_1, hidden_layer_sizes_2))\n",
    "\n",
    "for activation_function, optimizer, learning_rate, batch_size, hidden_layer_size_1, hidden_layer_size_2 in tqdm(combs, total=len(combs)):\n",
    "    epoch, test_accuracy = init_and_train_model(activation_function, optimizer, learning_rate, batch_size, hidden_layer_size_1, hidden_layer_size_2)\n",
    "    table.add_row([\n",
    "        \"Sigmoid\" if activation_function == nn.Sigmoid else \"Hyperbolic Tangent\" if activation_function == nn.Tanh else \"ReLU\", \n",
    "        \"SGD\" if optimizer == torch.optim.SGD else \"Adam\", \n",
    "        learning_rate, \n",
    "        batch_size,\n",
    "        hidden_layer_size_1,\n",
    "        hidden_layer_size_2,\n",
    "        epoch,\n",
    "        test_accuracy,\n",
    "    ])\n",
    "\n",
    "print(table)"
   ],
   "metadata": {
    "collapsed": false,
    "ExecuteTime": {
     "end_time": "2023-12-16T17:07:28.551996Z",
     "start_time": "2023-12-16T15:32:58.437789Z"
    }
   },
   "id": "e63e53aaea5ed46c"
  },
  {
   "cell_type": "markdown",
   "id": "7ca51440-2dab-4c55-bccb-eb3a53d18a84",
   "metadata": {},
   "source": [
    "Notice that when we evaluated the network on the test set, we've set the network to the evaluation mode using `.eval()` method. This is again best practice according to [the official documentation](https://pytorch.org/docs/stable/notes/autograd.html#evaluation-mode-nn-module-eval).\n",
    "\n",
    "**Task**\n",
    "\n",
    "1. Experiment with different activation functions, learning rates, batch sizes, optimizers, and architectures. \n",
    "   * What is the best combination of them? \n",
    "   * Which of them has the highest impact on the accuracy and rate of convergence? \n",
    "   * How about the size of hidden layers? Make the comparisons and draw the appropriate plots.\n",
    "\n",
    "*Remember to re-evaluate the previous two cells in order to properly apply changes.*"
   ]
  },
  {
   "cell_type": "markdown",
   "source": [
    "**Answers**\n",
    "\n",
    "1. The results are displayed as a table instead of plots, I hope that's ok. The best combination of parameters, rated by test data accuracy, is ReLU + SGD + learning rate 0.1 + batch size 100 + hidden layer sizes 256/256. There doesn't seem to be one parameter which drastically changes the accuracy by itself since there are results with similar accuracy with all sorts of different activation functions, optimizers, learning rates and batch sizes. When it comes to the size of hidden layers, the best results mostly have 256/256 but there are some good results for other combinations too. When it comes to the time it took to train the models, I noticed a significant difference when setting a larger batch size which lead to shorter durations per epoch and higher GPU usage on my machine (M1 Pro Macbook)."
   ],
   "metadata": {
    "collapsed": false
   },
   "id": "b1d20fdfcf2287a7"
  },
  {
   "cell_type": "markdown",
   "id": "04e32f8a",
   "metadata": {
    "collapsed": true
   },
   "source": [
    "# 6 Support Vector Machine\n",
    "## 6.1 Kernels\n",
    "Support Vector Machine can [use different kernels](https://en.wikipedia.org/wiki/Kernel_method): linear, radial basis function, polynomial, sigmoid, etc. The difference between some of them can be seen after running the code below that uses a classical example. Besides the usual packages, the *sklearn* package is also used here."
   ]
  },
  {
   "cell_type": "code",
   "execution_count": 236,
   "id": "915b4bb9",
   "metadata": {
    "ExecuteTime": {
     "end_time": "2023-12-16T17:46:25.419697Z",
     "start_time": "2023-12-16T17:46:24.860195Z"
    }
   },
   "outputs": [
    {
     "name": "stdout",
     "output_type": "stream",
     "text": [
      "Accuracy: 82.00%\n"
     ]
    },
    {
     "data": {
      "text/plain": "<Figure size 640x480 with 1 Axes>",
      "image/png": "[encoded data removed]"
     },
     "metadata": {},
     "output_type": "display_data"
    },
    {
     "name": "stdout",
     "output_type": "stream",
     "text": [
      "Accuracy: 82.67%\n"
     ]
    },
    {
     "data": {
      "text/plain": "<Figure size 640x480 with 1 Axes>",
      "image/png": "[encoded data removed]"
     },
     "metadata": {},
     "output_type": "display_data"
    },
    {
     "name": "stdout",
     "output_type": "stream",
     "text": [
      "Accuracy: 81.33%\n"
     ]
    },
    {
     "data": {
      "text/plain": "<Figure size 640x480 with 1 Axes>",
      "image/png": "[encoded data removed]"
     },
     "metadata": {},
     "output_type": "display_data"
    }
   ],
   "source": [
    "import numpy as np\n",
    "import matplotlib.pyplot as plt\n",
    "from sklearn import svm, datasets\n",
    "\n",
    "#take the well-known iris dataset\n",
    "iris = datasets.load_iris()\n",
    "#we will use only sepal length and width\n",
    "features=iris.data[:, :2]\n",
    "classes=iris.target\n",
    "\n",
    "#plot points\n",
    "x1, x2=features[:, 0], features[:, 1]\n",
    "x_min, x_max=x1.min()-1, x1.max()+1\n",
    "y_min, y_max=x2.min()-1, x2.max()+1\n",
    "h=0.02\n",
    "plot_x, plot_y=np.meshgrid(np.arange(x_min, x_max, h), np.arange(y_min, y_max, h))\n",
    "\n",
    "#regularization\n",
    "C=1.0  \n",
    "models=(svm.SVC(kernel=\"linear\", C=C),\n",
    "          svm.SVC(kernel=\"rbf\", gamma=0.7, C=C),\n",
    "          svm.SVC(kernel=\"poly\", degree=3, C=C))\n",
    "models=(model.fit(features, classes) for model in models)\n",
    "\n",
    "# title for the plots\n",
    "titles = (\"Linear kernel\", \"RBF kernel\", \"Polynomial (degree 3) kernel\")\n",
    "\n",
    "\n",
    "for model, title in zip(models, titles):\n",
    "    points=model.predict(np.c_[plot_x.ravel(), plot_y.ravel()]).reshape(plot_x.shape)\n",
    "    plt.contourf(plot_x, plot_y, points, cmap=plt.cm.coolwarm, alpha=0.8)\n",
    "    plt.xlim(plot_x.min(), plot_x.max())\n",
    "    plt.ylim(plot_y.min(), plot_y.max())\n",
    "    plt.xlabel(\"Sepal length\")\n",
    "    plt.ylabel(\"Sepal width\")\n",
    "    plt.title(title)\n",
    "    \n",
    "    predicted=model.predict(features)\n",
    "    print(\"Accuracy: %.2lf%%\"%(100*np.sum(classes==predicted)/classes.size))\n",
    "    \n",
    "    plt.scatter(x1, x2, c=classes, cmap=plt.cm.coolwarm, s=20, edgecolors=\"k\")\n",
    "    \n",
    "    plt.show()"
   ]
  },
  {
   "cell_type": "markdown",
   "id": "71810e65",
   "metadata": {},
   "source": [
    "**Tasks**\n",
    "\n",
    "1. What accuracies are achieved when other two features of the iris dataset are used?\n",
    "2. Split the iris dataset into a training and testing part with the ratio 70/30, fit the SVM model with different kernels on the training part, and test it on the testing part. Which kernel gives the highest accuracy? Take care of the target class distribution in the training/testing part.\n",
    "3. Make the code below give over 90% accuracy."
   ]
  },
  {
   "cell_type": "markdown",
   "source": [
    "**Answers**\n",
    "1. 96.67% for all three kernels. Plots can be seen in the code block below.\n",
    "2. The kernel with the highest accuracy depends on the way that the data is split into the training and testing dataset. The function `train_test_split` randomly splits the data each time, but it makes sure to split the data so that the distributions stays the same. In the code block below I managed to achieve a 100% accuracy for all three kernels.\n",
    "3. I managed to achieve an accuracy better than 90% by changing the kernel to RBF."
   ],
   "metadata": {
    "collapsed": false
   },
   "id": "a268fa20b92510c0"
  },
  {
   "cell_type": "code",
   "execution_count": 333,
   "outputs": [
    {
     "name": "stdout",
     "output_type": "stream",
     "text": [
      "Accuracy: 96.67%\n"
     ]
    },
    {
     "data": {
      "text/plain": "<Figure size 640x480 with 1 Axes>",
      "image/png": "[encoded data removed]"
     },
     "metadata": {},
     "output_type": "display_data"
    },
    {
     "name": "stdout",
     "output_type": "stream",
     "text": [
      "Accuracy: 96.67%\n"
     ]
    },
    {
     "data": {
      "text/plain": "<Figure size 640x480 with 1 Axes>",
      "image/png": "[encoded data removed]"
     },
     "metadata": {},
     "output_type": "display_data"
    },
    {
     "name": "stdout",
     "output_type": "stream",
     "text": [
      "Accuracy: 96.67%\n"
     ]
    },
    {
     "data": {
      "text/plain": "<Figure size 640x480 with 1 Axes>",
      "image/png": "[encoded data removed]"
     },
     "metadata": {},
     "output_type": "display_data"
    }
   ],
   "source": [
    "import numpy as np\n",
    "import matplotlib.pyplot as plt\n",
    "from sklearn import svm, datasets\n",
    "\n",
    "#take the well-known iris dataset\n",
    "iris = datasets.load_iris()\n",
    "#we will use only sepal length and width\n",
    "features=iris.data[:, 2:]\n",
    "classes=iris.target\n",
    "\n",
    "#plot points\n",
    "x1, x2=features[:, 0], features[:, 1]\n",
    "x_min, x_max=x1.min()-1, x1.max()+1\n",
    "y_min, y_max=x2.min()-1, x2.max()+1\n",
    "h=0.02\n",
    "plot_x, plot_y=np.meshgrid(np.arange(x_min, x_max, h), np.arange(y_min, y_max, h))\n",
    "\n",
    "#regularization\n",
    "C=1.0  \n",
    "models=(svm.SVC(kernel=\"linear\", C=C),\n",
    "          svm.SVC(kernel=\"rbf\", gamma=0.7, C=C),\n",
    "          svm.SVC(kernel=\"poly\", degree=3, C=C))\n",
    "models=(model.fit(features, classes) for model in models)\n",
    "\n",
    "# title for the plots\n",
    "titles = (\"Linear kernel\", \"RBF kernel\", \"Polynomial (degree 3) kernel\")\n",
    "\n",
    "\n",
    "for model, title in zip(models, titles):\n",
    "    points=model.predict(np.c_[plot_x.ravel(), plot_y.ravel()]).reshape(plot_x.shape)\n",
    "    plt.contourf(plot_x, plot_y, points, cmap=plt.cm.coolwarm, alpha=0.8)\n",
    "    plt.xlim(plot_x.min(), plot_x.max())\n",
    "    plt.ylim(plot_y.min(), plot_y.max())\n",
    "    plt.xlabel(\"Sepal length\")\n",
    "    plt.ylabel(\"Sepal width\")\n",
    "    plt.title(title)\n",
    "    \n",
    "    predicted=model.predict(features)\n",
    "    print(\"Accuracy: %.2lf%%\"%(100*np.sum(classes==predicted)/classes.size))\n",
    "    \n",
    "    plt.scatter(x1, x2, c=classes, cmap=plt.cm.coolwarm, s=20, edgecolors=\"k\")\n",
    "    \n",
    "    plt.show()"
   ],
   "metadata": {
    "collapsed": false,
    "ExecuteTime": {
     "end_time": "2023-12-16T17:58:30.171633Z",
     "start_time": "2023-12-16T17:58:29.771252Z"
    }
   },
   "id": "f9f7f1e6e3182218"
  },
  {
   "cell_type": "code",
   "execution_count": 369,
   "outputs": [
    {
     "name": "stdout",
     "output_type": "stream",
     "text": [
      "Linear kernel\n",
      "Accuracy: 100.00%\n",
      "\n",
      "RBF kernel\n",
      "Accuracy: 100.00%\n",
      "\n",
      "Polynomial (degree 3) kernel\n",
      "Accuracy: 100.00%\n"
     ]
    }
   ],
   "source": [
    "from sklearn.model_selection import train_test_split\n",
    "import numpy as np\n",
    "from sklearn import svm, datasets\n",
    "\n",
    "#take the well-known iris dataset\n",
    "iris = datasets.load_iris()\n",
    "\n",
    "features = iris.data\n",
    "classes = iris.target\n",
    "\n",
    "x_train, x_test, y_train, y_test = train_test_split(features, classes, train_size=0.7, test_size=0.3, stratify=classes)\n",
    "\n",
    "C=1.0\n",
    "models=(\n",
    "    svm.SVC(kernel=\"linear\", C=C),\n",
    "    svm.SVC(kernel=\"rbf\", gamma=0.7, C=C),\n",
    "    svm.SVC(kernel=\"poly\", degree=3, C=C),\n",
    ")\n",
    "models=(model.fit(x_train, y_train) for model in models)\n",
    "\n",
    "# title for the plots\n",
    "titles = (\"Linear kernel\", \"RBF kernel\", \"Polynomial (degree 3) kernel\")\n",
    "\n",
    "\n",
    "for model, title in zip(models, titles):    \n",
    "    predicted = model.predict(x_test)\n",
    "    print(title)\n",
    "    print(\"Accuracy: %.2lf%%\"%(100*np.sum(y_test==predicted)/y_test.size))\n",
    "    print()\n"
   ],
   "metadata": {
    "collapsed": false,
    "ExecuteTime": {
     "end_time": "2023-12-16T17:58:56.546363Z",
     "start_time": "2023-12-16T17:58:56.536588Z"
    }
   },
   "id": "3ba1a257d9d25b8c"
  },
  {
   "cell_type": "code",
   "execution_count": 429,
   "id": "4086458b",
   "metadata": {
    "ExecuteTime": {
     "end_time": "2023-12-16T18:01:21.480937Z",
     "start_time": "2023-12-16T18:01:21.472038Z"
    }
   },
   "outputs": [
    {
     "name": "stdout",
     "output_type": "stream",
     "text": [
      "Accuracy: 95.50%\n"
     ]
    }
   ],
   "source": [
    "import numpy as np\n",
    "from sklearn import svm, datasets\n",
    "\n",
    "n1=400\n",
    "n2=400\n",
    "\n",
    "class1=(np.tile(np.random.uniform(low=0.0, high=1, size=n2).reshape((n2, 1)), (1, 2))+3/2)*\\\n",
    "np.array([(np.cos(a), np.sin(a)) for a in np.random.uniform(low=2, high=8, size=n2)])+np.tile(np.array([[3/2, 0]]), (n1, 1))\n",
    "\n",
    "class2=(np.tile(np.random.uniform(low=0.0, high=1, size=n2).reshape((n2, 1)), (1, 2))+3/2)*\\\n",
    "np.array([(np.cos(a), np.sin(a)) for a in np.random.uniform(low=-1, high=4, size=n2)])\n",
    "x=np.vstack((class1, class2))\n",
    "y=np.concatenate((np.ones((n1)), 2*np.ones((n2))))\n",
    "\n",
    "idx=np.random.permutation(y.size)\n",
    "\n",
    "x=x[idx, :]\n",
    "y=y[idx]\n",
    "\n",
    "s=round((n1+n2)/2)\n",
    "\n",
    "x_train=x[:s, :]\n",
    "y_train=y[:s]\n",
    "\n",
    "x_test=x[s:, :]\n",
    "y_test=y[s:]\n",
    "\n",
    "model= svm.SVC(kernel=\"rbf\", gamma=0.7, C=1.0)\n",
    "model.fit(x_train, y_train)\n",
    "\n",
    "predicted=model.predict(x_test)\n",
    "print(\"Accuracy: %.2lf%%\"%(100*np.sum(y_test==predicted)/y_test.size))\n"
   ]
  },
  {
   "cell_type": "markdown",
   "id": "ee9d129e",
   "metadata": {},
   "source": [
    "## 6.2 Wine dataset\n",
    "Here we are going to make some experiments with the wine dataset to see how features can [affect](https://en.wikipedia.org/wiki/Feature_selection) the classification.\n",
    "\n",
    "**Tasks**\n",
    "\n",
    "1. Which SVM kernel will achieve the highest accuracy when all features are used?\n",
    "2. If you can use **only one** feature and any kernel to achieve the highest possible accuracy, which feature and kernel would that be?\n",
    "3. If you can use **only two** features and any kernel to achieve the highest possible accuracy, which feature and kernel would that be?\n",
    "4. How do you explain the results?"
   ]
  },
  {
   "cell_type": "markdown",
   "source": [
    "**Answers**\n",
    "1. Linear kernel achieves the highest accuracy when all features are used.\n",
    "2. Feature number 7 + RBF kernel. The table can be found in the code block below.\n",
    "3. Features number 7 and 10 + RBF kernel. The table can be found in the code block below.\n",
    "4. If we train a model using the linear kernel and then take the sum of the absolute values of all the weights corresponding to a certain feature, we can see that features number 7 and 10 have the largest sums. This means that they are the most important features when it comes to determining the classification of input data. The output can be seen in one of the code blocks below."
   ],
   "metadata": {
    "collapsed": false
   },
   "id": "e36a690c4f7738b4"
  },
  {
   "cell_type": "code",
   "execution_count": 470,
   "id": "49ca5e41",
   "metadata": {
    "ExecuteTime": {
     "end_time": "2023-12-16T18:09:14.488717Z",
     "start_time": "2023-12-16T18:09:14.464780Z"
    }
   },
   "outputs": [
    {
     "name": "stdout",
     "output_type": "stream",
     "text": [
      "LINEAR\n",
      "Accuracy: 94.38%\n",
      "\n",
      "RBF\n",
      "Accuracy: 33.71%\n",
      "\n",
      "POLY\n",
      "Accuracy: 62.92%\n"
     ]
    }
   ],
   "source": [
    "from sklearn.datasets import load_wine\n",
    "wine=load_wine()\n",
    "x=wine.data\n",
    "y=wine.target\n",
    "idx=np.random.permutation(y.size)\n",
    "x=x[idx, :]\n",
    "y=y[idx]\n",
    "\n",
    "#all features\n",
    "features_idx=range(x.shape[1])\n",
    "#only some of the features\n",
    "#features_idx=[0, 1]\n",
    "\n",
    "x=x[:, features_idx]\n",
    "\n",
    "s=round(y.size/2)\n",
    "\n",
    "x_train=x[:s, :]\n",
    "y_train=y[:s]\n",
    "\n",
    "x_test=x[s:, :]\n",
    "y_test=y[s:]\n",
    "\n",
    "for model in (\n",
    "    svm.SVC(kernel=\"linear\", C=C),\n",
    "    svm.SVC(kernel=\"rbf\", gamma=0.7, C=C),\n",
    "    svm.SVC(kernel=\"poly\", degree=3, C=C),\n",
    "):\n",
    "    model.fit(x_train, y_train)\n",
    "    predicted=model.predict(x_test)\n",
    "    print(model.kernel.upper())\n",
    "    print(\"Accuracy: %.2lf%%\"%(100*np.sum(y_test==predicted)/y_test.size))\n",
    "    print()"
   ]
  },
  {
   "cell_type": "code",
   "execution_count": 496,
   "outputs": [
    {
     "name": "stdout",
     "output_type": "stream",
     "text": [
      "+---------------+------------------------+---------------------+---------------------------------+\n",
      "| Feature Index | Linear Kernel Accuracy | RBF Kernel Accuracy | Poly Kernel (Degree 3) Accuracy |\n",
      "+---------------+------------------------+---------------------+---------------------------------+\n",
      "|       1       |    65.1685393258427    |  64.04494382022472  |        62.92134831460674        |\n",
      "|       2       |   48.31460674157304    |  59.550561797752806 |        49.438202247191015       |\n",
      "|       3       |   39.325842696629216   |  39.325842696629216 |        40.449438202247194       |\n",
      "|       4       |   48.31460674157304    |  51.68539325842696  |        48.31460674157304        |\n",
      "|       5       |   57.30337078651685    |  42.69662921348315  |        51.68539325842696        |\n",
      "|       6       |   60.674157303370784   |  60.674157303370784 |        56.17977528089887        |\n",
      "|       7       |   77.52808988764045    |   79.7752808988764  |        69.66292134831461        |\n",
      "|       8       |   39.325842696629216   |  39.325842696629216 |        58.42696629213483        |\n",
      "|       9       |   42.69662921348315    |  50.561797752808985 |        37.07865168539326        |\n",
      "|       10      |   69.66292134831461    |  68.53932584269663  |        66.29213483146067        |\n",
      "|       11      |   53.93258426966292    |  53.93258426966292  |        52.80898876404494        |\n",
      "|       12      |   68.53932584269663    |  59.550561797752806 |        66.29213483146067        |\n",
      "|       13      |   70.78651685393258    |  44.943820224719104 |        67.41573033707866        |\n",
      "+---------------+------------------------+---------------------+---------------------------------+\n"
     ]
    }
   ],
   "source": [
    "from sklearn.datasets import load_wine\n",
    "\n",
    "\n",
    "wine=load_wine()\n",
    "x=wine.data\n",
    "y=wine.target\n",
    "    \n",
    "idx=np.random.permutation(y.size)\n",
    "x=x[idx, :]\n",
    "y=y[idx]\n",
    "\n",
    "table = PrettyTable()\n",
    "table.field_names = [\"Feature Index\", \"Linear Kernel Accuracy\", \"RBF Kernel Accuracy\", \"Poly Kernel (Degree 3) Accuracy\"]\n",
    "\n",
    "for feature in range(len(x[0])):\n",
    "    x=wine.data\n",
    "    y=wine.target\n",
    "\n",
    "    x=x[idx, :]\n",
    "    y=y[idx]\n",
    "\n",
    "    features_idx=[feature]\n",
    "    \n",
    "    x=x[:, features_idx]\n",
    "    \n",
    "    s=round(y.size/2)\n",
    "    \n",
    "    x_train=x[:s, :]\n",
    "    y_train=y[:s]\n",
    "    \n",
    "    x_test=x[s:, :]\n",
    "    y_test=y[s:]\n",
    "    \n",
    "    row = [feature + 1]\n",
    "    for model in (\n",
    "        svm.SVC(kernel=\"linear\", C=C),\n",
    "        svm.SVC(kernel=\"rbf\", gamma=0.7, C=C),\n",
    "        svm.SVC(kernel=\"poly\", degree=3, C=C),\n",
    "    ):\n",
    "        model.fit(x_train, y_train)\n",
    "        predicted=model.predict(x_test)\n",
    "        \n",
    "        row.append(100 * np.sum(y_test==predicted) / y_test.size)\n",
    "        \n",
    "    table.add_row(row) \n",
    "\n",
    "print(table)"
   ],
   "metadata": {
    "collapsed": false,
    "ExecuteTime": {
     "end_time": "2023-12-16T18:27:56.857639Z",
     "start_time": "2023-12-16T18:27:53.995760Z"
    }
   },
   "id": "b9a338dfb732ab86"
  },
  {
   "cell_type": "code",
   "execution_count": 502,
   "outputs": [
    {
     "name": "stdout",
     "output_type": "stream",
     "text": [
      "+-----------------+------------------------+---------------------+---------------------------------+--------------------+\n",
      "| Feature Indexes | Linear Kernel Accuracy | RBF Kernel Accuracy | Poly Kernel (Degree 3) Accuracy |   Best Accuracy    |\n",
      "+-----------------+------------------------+---------------------+---------------------------------+--------------------+\n",
      "|      7, 10      |   86.51685393258427    |  91.01123595505618  |        86.51685393258427        | 91.01123595505618  |\n",
      "|       1, 7      |   89.88764044943821    |  88.76404494382022  |        87.64044943820225        | 89.88764044943821  |\n",
      "|      10, 12     |   87.64044943820225    |  87.64044943820225  |        84.26966292134831        | 87.64044943820225  |\n",
      "|      1, 12      |   86.51685393258427    |   85.3932584269663  |        87.64044943820225        | 87.64044943820225  |\n",
      "|      7, 11      |   82.02247191011236    |  83.14606741573034  |        86.51685393258427        | 86.51685393258427  |\n",
      "|      6, 10      |   83.14606741573034    |  86.51685393258427  |        82.02247191011236        | 86.51685393258427  |\n",
      "|      12, 13     |   86.51685393258427    |  37.07865168539326  |        64.04494382022472        | 86.51685393258427  |\n",
      "|      1, 10      |    85.3932584269663    |  86.51685393258427  |        84.26966292134831        | 86.51685393258427  |\n",
      "|      9, 10      |   82.02247191011236    |   85.3932584269663  |        80.89887640449439        |  85.3932584269663  |\n",
      "|      7, 12      |   83.14606741573034    |   85.3932584269663  |         85.3932584269663        |  85.3932584269663  |\n",
      "|      10, 13     |    85.3932584269663    |  35.95505617977528  |        66.29213483146067        |  85.3932584269663  |\n",
      "|      7, 13      |   84.26966292134831    |  40.449438202247194 |        64.04494382022472        | 84.26966292134831  |\n",
      "|       1, 6      |   82.02247191011236    |  84.26966292134831  |        82.02247191011236        | 84.26966292134831  |\n",
      "|      1, 11      |   83.14606741573034    |  82.02247191011236  |        74.15730337078652        | 83.14606741573034  |\n",
      "|       4, 7      |   82.02247191011236    |  75.28089887640449  |         79.7752808988764        | 82.02247191011236  |\n",
      "|       3, 7      |    79.7752808988764    |  82.02247191011236  |        80.89887640449439        | 82.02247191011236  |\n",
      "|      11, 13     |   82.02247191011236    |  38.20224719101124  |        66.29213483146067        | 82.02247191011236  |\n",
      "|       7, 9      |   80.89887640449439    |   79.7752808988764  |        78.65168539325843        | 80.89887640449439  |\n",
      "|       7, 8      |   80.89887640449439    |  77.52808988764045  |        70.78651685393258        | 80.89887640449439  |\n",
      "|       6, 7      |   80.89887640449439    |   79.7752808988764  |        78.65168539325843        | 80.89887640449439  |\n",
      "|      4, 10      |   80.89887640449439    |  67.41573033707866  |        77.52808988764045        | 80.89887640449439  |\n",
      "|       1, 9      |    79.7752808988764    |  80.89887640449439  |         79.7752808988764        | 80.89887640449439  |\n",
      "|      4, 12      |   78.65168539325843    |  74.15730337078652  |         79.7752808988764        |  79.7752808988764  |\n",
      "|       1, 2      |   71.91011235955057    |   79.7752808988764  |        71.91011235955057        |  79.7752808988764  |\n",
      "|      1, 13      |    79.7752808988764    |  40.449438202247194 |        66.29213483146067        |  79.7752808988764  |\n",
      "|      6, 12      |   78.65168539325843    |  75.28089887640449  |        73.03370786516854        | 78.65168539325843  |\n",
      "|       5, 7      |   78.65168539325843    |  73.03370786516854  |        47.19101123595506        | 78.65168539325843  |\n",
      "|       2, 7      |   76.40449438202248    |  76.40449438202248  |        78.65168539325843        | 78.65168539325843  |\n",
      "|      2, 10      |   76.40449438202248    |  78.65168539325843  |        76.40449438202248        | 78.65168539325843  |\n",
      "|      10, 11     |   78.65168539325843    |  78.65168539325843  |        74.15730337078652        | 78.65168539325843  |\n",
      "|       6, 9      |   68.53932584269663    |  77.52808988764045  |        71.91011235955057        | 77.52808988764045  |\n",
      "|      2, 13      |   77.52808988764045    |  37.07865168539326  |        66.29213483146067        | 77.52808988764045  |\n",
      "|       1, 4      |   77.52808988764045    |  66.29213483146067  |        74.15730337078652        | 77.52808988764045  |\n",
      "|      9, 13      |   76.40449438202248    |  35.95505617977528  |        66.29213483146067        | 76.40449438202248  |\n",
      "|      8, 10      |   76.40449438202248    |  76.40449438202248  |        74.15730337078652        | 76.40449438202248  |\n",
      "|      6, 11      |   75.28089887640449    |  76.40449438202248  |        70.78651685393258        | 76.40449438202248  |\n",
      "|      5, 12      |   76.40449438202248    |  64.04494382022472  |        46.06741573033708        | 76.40449438202248  |\n",
      "|      6, 13      |   75.28089887640449    |  39.325842696629216 |        64.04494382022472        | 75.28089887640449  |\n",
      "|      3, 10      |   73.03370786516854    |  75.28089887640449  |        74.15730337078652        | 75.28089887640449  |\n",
      "|       6, 8      |   74.15730337078652    |  69.66292134831461  |        67.41573033707866        | 74.15730337078652  |\n",
      "|       2, 6      |   70.78651685393258    |  73.03370786516854  |        71.91011235955057        | 73.03370786516854  |\n",
      "|      5, 13      |   71.91011235955057    |  34.831460674157306 |         65.1685393258427        | 71.91011235955057  |\n",
      "|      5, 10      |   71.91011235955057    |  60.674157303370784 |        56.17977528089887        | 71.91011235955057  |\n",
      "|      2, 12      |   55.056179775280896   |  70.78651685393258  |        71.91011235955057        | 71.91011235955057  |\n",
      "|       1, 3      |   67.41573033707866    |  71.91011235955057  |        66.29213483146067        | 71.91011235955057  |\n",
      "|       4, 6      |   70.78651685393258    |  55.056179775280896 |        62.92134831460674        | 70.78651685393258  |\n",
      "|      4, 11      |   69.66292134831461    |  50.561797752808985 |        55.056179775280896       | 69.66292134831461  |\n",
      "|      2, 11      |   50.561797752808985   |  69.66292134831461  |        44.943820224719104       | 69.66292134831461  |\n",
      "|       5, 9      |   68.53932584269663    |  51.68539325842696  |        44.943820224719104       | 68.53932584269663  |\n",
      "|      4, 13      |   68.53932584269663    |  32.58426966292135  |        66.29213483146067        | 68.53932584269663  |\n",
      "|       3, 6      |   67.41573033707866    |  68.53932584269663  |        62.92134831460674        | 68.53932584269663  |\n",
      "|      3, 12      |    65.1685393258427    |  68.53932584269663  |        64.04494382022472        | 68.53932584269663  |\n",
      "|       1, 8      |   68.53932584269663    |  68.53932584269663  |        67.41573033707866        | 68.53932584269663  |\n",
      "|       1, 5      |   68.53932584269663    |  64.04494382022472  |        50.561797752808985       | 68.53932584269663  |\n",
      "|       5, 6      |   67.41573033707866    |  59.550561797752806 |        44.943820224719104       | 67.41573033707866  |\n",
      "|      3, 13      |   67.41573033707866    |  38.20224719101124  |        66.29213483146067        | 67.41573033707866  |\n",
      "|      8, 13      |   66.29213483146067    |  38.20224719101124  |        66.29213483146067        | 66.29213483146067  |\n",
      "|       2, 9      |   50.561797752808985   |  66.29213483146067  |        44.943820224719104       | 66.29213483146067  |\n",
      "|       2, 4      |   60.674157303370784   |  60.674157303370784 |        66.29213483146067        | 66.29213483146067  |\n",
      "|      5, 11      |   64.04494382022472    |  51.68539325842696  |        44.943820224719104       | 64.04494382022472  |\n",
      "|       4, 5      |   64.04494382022472    |  48.31460674157304  |        57.30337078651685        | 64.04494382022472  |\n",
      "|       2, 8      |   46.06741573033708    |  62.92134831460674  |        43.82022471910113        | 62.92134831460674  |\n",
      "|       2, 3      |   49.438202247191015   |  62.92134831460674  |        59.550561797752806       | 62.92134831460674  |\n",
      "|       4, 9      |   60.674157303370784   |  53.93258426966292  |        53.93258426966292        | 60.674157303370784 |\n",
      "|       3, 9      |   47.19101123595506    |  60.674157303370784 |        57.30337078651685        | 60.674157303370784 |\n",
      "|      3, 11      |   53.93258426966292    |  59.550561797752806 |        60.674157303370784       | 60.674157303370784 |\n",
      "|      9, 12      |   59.550561797752806   |  55.056179775280896 |        59.550561797752806       | 59.550561797752806 |\n",
      "|       2, 5      |   59.550561797752806   |  53.93258426966292  |        44.943820224719104       | 59.550561797752806 |\n",
      "|       3, 4      |   57.30337078651685    |  58.42696629213483  |        57.30337078651685        | 58.42696629213483  |\n",
      "|      11, 12     |   53.93258426966292    |  53.93258426966292  |        58.42696629213483        | 58.42696629213483  |\n",
      "|      9, 11      |   55.056179775280896   |  57.30337078651685  |        53.93258426966292        | 57.30337078651685  |\n",
      "|       4, 8      |   51.68539325842696    |  48.31460674157304  |        55.056179775280896       | 55.056179775280896 |\n",
      "|      8, 12      |   53.93258426966292    |  53.93258426966292  |        53.93258426966292        | 53.93258426966292  |\n",
      "|      8, 11      |   53.93258426966292    |  53.93258426966292  |        52.80898876404494        | 53.93258426966292  |\n",
      "|       5, 8      |   53.93258426966292    |  51.68539325842696  |        44.943820224719104       | 53.93258426966292  |\n",
      "|       3, 8      |   43.82022471910113    |  46.06741573033708  |        51.68539325842696        | 51.68539325842696  |\n",
      "|       3, 5      |   50.561797752808985   |  50.561797752808985 |        44.943820224719104       | 50.561797752808985 |\n",
      "|       8, 9      |   42.69662921348315    |  44.943820224719104 |        47.19101123595506        | 47.19101123595506  |\n",
      "+-----------------+------------------------+---------------------+---------------------------------+--------------------+\n"
     ]
    }
   ],
   "source": [
    "from sklearn.datasets import load_wine\n",
    "\n",
    "\n",
    "wine=load_wine()\n",
    "x=wine.data\n",
    "y=wine.target\n",
    "    \n",
    "idx=np.random.permutation(y.size)\n",
    "x=x[idx, :]\n",
    "y=y[idx]\n",
    "\n",
    "table = PrettyTable()\n",
    "table.field_names = [\"Feature Indexes\", \"Linear Kernel Accuracy\", \"RBF Kernel Accuracy\", \"Poly Kernel (Degree 3) Accuracy\", \"Best Accuracy\"]\n",
    "table.sortby = \"Best Accuracy\"\n",
    "table.reversesort = True\n",
    "\n",
    "for feature_1, feature_2 in itertools.combinations(range(len(x[0])), 2):\n",
    "    x=wine.data\n",
    "    y=wine.target\n",
    "\n",
    "    x=x[idx, :]\n",
    "    y=y[idx]\n",
    "\n",
    "    features_idx=[feature_1, feature_2]\n",
    "    \n",
    "    x=x[:, features_idx]\n",
    "    \n",
    "    s=round(y.size/2)\n",
    "    \n",
    "    x_train=x[:s, :]\n",
    "    y_train=y[:s]\n",
    "    \n",
    "    x_test=x[s:, :]\n",
    "    y_test=y[s:]\n",
    "    \n",
    "    row = [f\"{feature_1 + 1}, {feature_2 + 1}\"]\n",
    "    for model in (\n",
    "        svm.SVC(kernel=\"linear\", C=C),\n",
    "        svm.SVC(kernel=\"rbf\", gamma=0.7, C=C),\n",
    "        svm.SVC(kernel=\"poly\", degree=3, C=C),\n",
    "    ):\n",
    "        model.fit(x_train, y_train)\n",
    "        predicted=model.predict(x_test)\n",
    "        \n",
    "        row.append(100 * np.sum(y_test==predicted) / y_test.size)\n",
    "    \n",
    "    row.append(max(row[1:]))\n",
    "    table.add_row(row) \n",
    "\n",
    "print(table)"
   ],
   "metadata": {
    "collapsed": false,
    "ExecuteTime": {
     "end_time": "2023-12-16T18:31:28.407077Z",
     "start_time": "2023-12-16T18:31:27.221613Z"
    }
   },
   "id": "46c440871fee80e9"
  },
  {
   "cell_type": "code",
   "execution_count": 648,
   "outputs": [
    {
     "name": "stdout",
     "output_type": "stream",
     "text": [
      "Feature  1, Importance: 0.912\n",
      "Feature  2, Importance: 1.159\n",
      "Feature  3, Importance: 1.045\n",
      "Feature  4, Importance: 0.305\n",
      "Feature  5, Importance: 0.055\n",
      "Feature  6, Importance: 0.730\n",
      "Feature  7, Importance: 1.475\n",
      "Feature  8, Importance: 0.191\n",
      "Feature  9, Importance: 1.134\n",
      "Feature 10, Importance: 1.632\n",
      "Feature 11, Importance: 0.385\n",
      "Feature 12, Importance: 0.641\n",
      "Feature 13, Importance: 0.015\n"
     ]
    }
   ],
   "source": [
    "from sklearn.inspection import permutation_importance\n",
    "from sklearn.datasets import load_wine\n",
    "\n",
    "\n",
    "wine=load_wine()\n",
    "x=wine.data\n",
    "y=wine.target\n",
    "idx=np.random.permutation(y.size)\n",
    "x=x[idx, :]\n",
    "y=y[idx]\n",
    "\n",
    "#all features\n",
    "features_idx=range(x.shape[1])\n",
    "#only some of the features\n",
    "#features_idx=[0, 1]\n",
    "\n",
    "x=x[:, features_idx]\n",
    "\n",
    "model = svm.SVC(kernel=\"linear\")\n",
    "model.fit(x_train, y_train)\n",
    "\n",
    "feature_importance = dict()\n",
    "for i, weight_sum in enumerate(np.sum(np.abs(model.coef_), axis=0), start=1):\n",
    "    feature_importance[i] = float(weight_sum)\n",
    "\n",
    "for feature, importance in feature_importance.items():\n",
    "    print(f\"Feature {feature:2d}, Importance: {importance:.3f}\")"
   ],
   "metadata": {
    "collapsed": false,
    "ExecuteTime": {
     "end_time": "2023-12-16T19:29:00.849684Z",
     "start_time": "2023-12-16T19:29:00.810479Z"
    }
   },
   "id": "3f34adb7dba31bcd"
  },
  {
   "cell_type": "markdown",
   "id": "ba7d2025",
   "metadata": {},
   "source": [
    "## 6.3 Speed\n",
    "SVM is really great, but it has an important disadvantage with respect to neural networks in general. Here we are going to demonstrate it.\n",
    "\n",
    "**Tasks**\n",
    "1. Run the code below for various dataset sizes and each time store the time needed for the model to fit.\n",
    "2. Draw a plot that shows the influence of dataset size on execution time.\n",
    "3. How would you model the influence?"
   ]
  },
  {
   "cell_type": "markdown",
   "source": [
    "**Answers**\n",
    "1. The code was run using data sizes: `[1000, 2000, 3000, 5000, 8000, 10000, 20000, 30000, 50000]`\n",
    "2. Plot is located below.\n",
    "3. I would model the influence using some exponential function. In the code below I managed to create a decent estimation using the function: $f(x) = 7.505916952147382 \\cdot e^{(0.041445675226899396 \\cdot (x \\div 1000))} - 8.369320439116594$"
   ],
   "metadata": {
    "collapsed": false
   },
   "id": "7c41c44ebbdda71"
  },
  {
   "cell_type": "code",
   "execution_count": 29,
   "id": "d40cf8c0",
   "metadata": {
    "ExecuteTime": {
     "end_time": "2023-12-16T20:05:36.132352Z",
     "start_time": "2023-12-16T20:04:13.024395Z"
    }
   },
   "outputs": [
    {
     "name": "stdout",
     "output_type": "stream",
     "text": [
      "7.505916952147382 -0.041445675226899396 -8.369320439116594\n"
     ]
    },
    {
     "data": {
      "text/plain": "<Figure size 640x480 with 1 Axes>",
      "image/png": "[encoded data removed]"
     },
     "metadata": {},
     "output_type": "display_data"
    }
   ],
   "source": [
    "from scipy.optimize import curve_fit\n",
    "import time\n",
    "import matplotlib.pyplot as plt\n",
    "import numpy as np\n",
    "from sklearn import svm, datasets\n",
    "\n",
    "\n",
    "def create_data(n1, n2):\n",
    "    class1=np.c_[np.random.normal(0, 1, size=n1), np.random.normal(0, 1, size=n1)]\n",
    "    class2=np.c_[np.random.normal(2, 1, size=n2), np.random.normal(0, 1, size=n2)]\n",
    "    x=np.vstack((class1, class2))\n",
    "    y=np.concatenate((np.ones((n1)), 2*np.ones((n2))))\n",
    "    \n",
    "    return x, y\n",
    "\n",
    "\n",
    "def func(x, a, b, c):\n",
    "    return a * np.exp(-b * (x / 1000)) + c\n",
    "\n",
    "\n",
    "times = []\n",
    "data_sizes = [1000, 2000, 3000, 5000, 8000, 10000, 20000, 30000, 50000]\n",
    "\n",
    "for data_size in data_sizes:\n",
    "    model = svm.SVC(kernel=\"linear\", C=1.0)\n",
    "    x, y = create_data(data_size, data_size)\n",
    "\n",
    "    start = time.time()\n",
    "    model.fit(x, y)\n",
    "    \n",
    "    times.append(time.time() - start)\n",
    "\n",
    "params, _ = curve_fit(func, data_sizes, times, p0=(0.0001, 0.0001, 0.0001))\n",
    "print(*params)\n",
    "\n",
    "plt.plot(data_sizes, times)\n",
    "\n",
    "x = np.arange(0, 50000, 1)\n",
    "plt.plot(x, func(np.array(x), *params))\n",
    "plt.show()"
   ]
  }
 ],
 "metadata": {
  "kernelspec": {
   "display_name": "Python 3 (ipykernel)",
   "language": "python",
   "name": "python3"
  },
  "language_info": {
   "codemirror_mode": {
    "name": "ipython",
    "version": 3
   },
   "file_extension": ".py",
   "mimetype": "text/x-python",
   "name": "python",
   "nbconvert_exporter": "python",
   "pygments_lexer": "ipython3",
   "version": "3.7.16"
  }
 },
 "nbformat": 4,
 "nbformat_minor": 5
}
